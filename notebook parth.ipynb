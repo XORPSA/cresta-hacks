{
 "cells": [
  {
   "cell_type": "markdown",
   "id": "afd1e805-38c4-4f90-8d8a-53689dc86bbd",
   "metadata": {},
   "source": [
    "# Setup"
   ]
  },
  {
   "cell_type": "code",
   "execution_count": 1,
   "id": "6881e5e1-39f1-4f06-b650-adaf3937564b",
   "metadata": {},
   "outputs": [],
   "source": [
    "%load_ext autoreload\n",
    "%autoreload 2"
   ]
  },
  {
   "cell_type": "code",
   "execution_count": 2,
   "id": "b946a030",
   "metadata": {},
   "outputs": [
    {
     "name": "stderr",
     "output_type": "stream",
     "text": [
      "Using local gitdb: /src/config/\n"
     ]
    }
   ],
   "source": [
    "# Standard library imports\n",
    "from pydantic import BaseModel\n",
    "from typing import Literal\n",
    "import threading\n",
    "import warnings\n",
    "import random\n",
    "import queue\n",
    "import json\n",
    "import csv\n",
    "import os\n",
    "\n",
    "warnings.filterwarnings(\"ignore\")\n",
    "JWT_SECRET_API = !echo $(aws --profile \"chat-prod_ro\" secretsmanager get-secret-value --secret-id \"arn:aws:secretsmanager:us-west-2:242659714806:secret:shared/cresta-server-jwt_secret-VDn5My\" --query SecretString --output text) # type: ignore\n",
    "os.environ[\"JWT_SECRET_API\"] = json.loads(JWT_SECRET_API[0])[\"jwt-secret\"]\n",
    "os.environ[\"CONFIG_SERVICE_ADDR\"] = \"auth.chat-prod.internal.cresta.ai:443\"\n",
    "os.environ[\"CONFIG_USE_SECURE_CHANNEL\"] = \"true\"\n",
    "\n",
    "# Third party imports\n",
    "\n",
    "from sentence_transformers import SentenceTransformer, util\n",
    "from retry import retry\n",
    "\n",
    "# Greyparrot imports\n",
    "from greyparrot.llm.prompting import prompts as prompts_utils\n",
    "from greyparrot.conversations.db import ConversationsDBConn\n",
    "from greyparrot.multi_tenancy.v3_config import V3Config\n",
    "from greyparrot.chats_common import PartialChat\n",
    "from greyparrot.dataset_common import Dataset\n",
    "from greyparrot.common import get_logger\n",
    "from greyparrot.conversations.utils import get_chats\n",
    "\n",
    "\n",
    "logger = get_logger(__name__)\n",
    "\n",
    "# Local imports\n",
    "from llm_proxy_client import LLMProxyDevClient"
   ]
  },
  {
   "cell_type": "code",
   "execution_count": 3,
   "id": "7e4bd5d0-d369-4e36-92d6-a8d30198ecca",
   "metadata": {},
   "outputs": [],
   "source": [
    "embedder = SentenceTransformer(\"all-mpnet-base-v2\")"
   ]
  },
  {
   "cell_type": "code",
   "execution_count": 4,
   "id": "be1a39f6-f947-40e6-8cc3-c129fe8610cb",
   "metadata": {},
   "outputs": [],
   "source": [
    "customer_id = \"brinks\"\n",
    "profile_id = \"care-voice\"\n",
    "usecase_id = \"care-voice\"\n",
    "language_code = \"en-US\""
   ]
  },
  {
   "cell_type": "code",
   "execution_count": 5,
   "id": "0a5b2751-25c6-404f-9454-3747754271ed",
   "metadata": {},
   "outputs": [],
   "source": [
    "def get_chats_with_ids(chat_ids: list[str]) -> list[PartialChat]:\n",
    "    customer_name: str = V3Config.short_name_from_ids(customer_id, profile_id)\n",
    "    conv_db_conn: ConversationsDBConn = ConversationsDBConn.from_customer_name(customer_name)\n",
    "    chats: list[PartialChat] = conv_db_conn.get_detailed_chats(\n",
    "        customer_id=customer_id,\n",
    "        profile_id=profile_id,\n",
    "        usecase_id=usecase_id,\n",
    "        language_code=language_code,\n",
    "        conversation_ids=chat_ids,\n",
    "        is_dev_user=False,\n",
    "    )\n",
    "    return chats"
   ]
  },
  {
   "cell_type": "code",
   "execution_count": 6,
   "id": "afcb1094-7197-466c-8a03-d3725ccaf380",
   "metadata": {},
   "outputs": [],
   "source": [
    "LLM_ENGINE: str = \"gpt-4o-mini\"\n",
    "CONCURRENCY: int = 10"
   ]
  },
  {
   "cell_type": "code",
   "execution_count": 7,
   "id": "620967f2-bf35-4305-9889-f08021619e7d",
   "metadata": {},
   "outputs": [],
   "source": [
    "@retry(tries=1, delay=60, backoff=2, logger=logger)\n",
    "def chat_completion(**kwargs):\n",
    "    return LLMProxyDevClient(\"openai\").beta.chat.completions.parse(**kwargs)"
   ]
  },
  {
   "cell_type": "markdown",
   "id": "fc5c40f7-e0e3-4eb8-818e-6a43d2d1dd02",
   "metadata": {},
   "source": [
    "# Discovery prompts"
   ]
  },
  {
   "cell_type": "code",
   "execution_count": 8,
   "id": "e404cd18-a964-45c5-8977-64053d53bfc4",
   "metadata": {},
   "outputs": [],
   "source": [
    "# TODO remove this after fixing speaker_role flips\n",
    "flips: dict[str, str] = {\"agent\": \"visitor\", \"visitor\": \"agent\"}"
   ]
  },
  {
   "cell_type": "code",
   "execution_count": 9,
   "id": "d52de3a4-12a9-46a4-a930-5f14eb66db2a",
   "metadata": {},
   "outputs": [],
   "source": [
    "def chat_to_prompt_text(chat: PartialChat) -> str:\n",
    "    return \"\\n\".join([\n",
    "        f\"{prompts_utils.speaker_role_str_for_prompts(flips[m.speaker_role.value]).capitalize()}: {m.text}\"\n",
    "        for m in chat.messages\n",
    "    ])"
   ]
  },
  {
   "cell_type": "code",
   "execution_count": 23,
   "id": "099b0d7c-a431-4e1e-803a-2f69d8a1df70",
   "metadata": {},
   "outputs": [],
   "source": [
    "SYSTEM_PROMPT_AGENT_WORKFLOW_DISCOVERY = \"\"\"### Context and data description\n",
    "You are a conversation analyst working for Brinks Home Security Call Center.\n",
    "\n",
    "You will be given 1 conversation at a time. Each conversation is between a Brinks Call Center Agent and a Customer. Your primary goal is to extract workflows of steps which the Agent takes in **the given conversation** to help resolve the Customer's needs related to their home security system and services.\n",
    "\n",
    "The primary use case of these workflows is to create a troubleshooting template to address similar customer needs in the future.\n",
    "\n",
    "Each workflow should be a list of steps which the Agent needs to take.\n",
    "\n",
    "For each workflow, return:\n",
    "- Product: Specific Brinks product/service involved (e.g., Security Panel, Door/Window Sensor, Motion Detector, Security Camera, Doorbell Camera, Smart Lock, Mobile App, Alarm.com Account)\n",
    "- Issue: Specific customer problem (e.g., False Alarms, Device Offline, Camera Not Recording, App Login Issues, Billing Questions, Account Changes)\n",
    "- Steps: Detailed troubleshooting or resolution steps the Agent follows\n",
    "\n",
    "Make sure the product is specific to Brinks' security equipment and services, not general categories.\n",
    "Make sure the issue clearly describes the exact problem the customer is experiencing.\n",
    "Make sure the steps are detailed and follow Brinks' standard operating procedures.\n",
    "Make sure to only return the agent troubleshooting steps, not the customer's requests or other information.\n",
    "\n",
    "Common scenarios include:\n",
    "- Security system troubleshooting (panel issues, sensor malfunctions, connectivity problems)\n",
    "- Camera and video recording issues\n",
    "- Account management (billing, autopay, contact updates)\n",
    "- Mobile app and Alarm.com portal assistance\n",
    "- Service changes (moving, upgrading, cancellation)\n",
    "- Installation and maintenance appointments\n",
    "\n",
    "**Important**: There could be more than 1 workflow in a single conversation. There could also be no workflows in a single conversation. The workflows will be used to create troubleshooting guides to address similar customer needs in the future.\"\"\""
   ]
  },
  {
   "cell_type": "code",
   "execution_count": 24,
   "id": "2b37c0eb",
   "metadata": {},
   "outputs": [],
   "source": [
    "class Flow(BaseModel):\n",
    "    product: str\n",
    "    issue: str\n",
    "    steps: list[str]\n",
    "\n",
    "class Flows(BaseModel):\n",
    "    flows: list[Flow]"
   ]
  },
  {
   "cell_type": "code",
   "execution_count": 25,
   "id": "64e4a2f3-1e34-43ee-94e2-65015660af2a",
   "metadata": {},
   "outputs": [],
   "source": [
    "def discover_flow_in_chat(chat: PartialChat,\n",
    "                          llm_engine: str = LLM_ENGINE) -> list[Flow]:\n",
    "    logger.info(f\"Discovering Agent flow in chat {chat.chat_name}\")\n",
    "    messages: list[dict[str, str]] = [\n",
    "        {\n",
    "            \"role\": \"system\",\n",
    "            \"content\": SYSTEM_PROMPT_AGENT_WORKFLOW_DISCOVERY\n",
    "        },\n",
    "        {\n",
    "            \"role\": \"user\",\n",
    "            \"content\": chat_to_prompt_text(chat)\n",
    "        },\n",
    "    ]\n",
    "\n",
    "    # Note: temperature=0.1 to allow for some exploration\n",
    "    return chat_completion(model=llm_engine,\n",
    "                            messages=messages,\n",
    "                            temperature=0.1,\n",
    "                            response_format=Flows).choices[0].message.parsed.flows"
   ]
  },
  {
   "cell_type": "code",
   "execution_count": 34,
   "id": "034f33d5-e6fe-49f4-918b-6a88819af747",
   "metadata": {},
   "outputs": [],
   "source": [
    "def extract_flows_from_chats(chats: list[PartialChat],\n",
    "                                concurrency: int=10) -> dict[str, list[Flow]]:\n",
    "    lock: threading.Lock = threading.Lock()\n",
    "    indexes: queue.Queue = queue.Queue()\n",
    "\n",
    "    workflows: dict[str, list[Flow]] = {}\n",
    "    for idx in range(len(chats)):\n",
    "        indexes.put(idx)\n",
    "\n",
    "    def workflow_labeler_worker():\n",
    "        while True:\n",
    "            try:\n",
    "                idx = indexes.get(block=False)\n",
    "            except queue.Empty:\n",
    "                return\n",
    "            chat = chats[idx]\n",
    "            try:\n",
    "                extracted_workflows: list[Flow] = discover_flow_in_chat(chat)\n",
    "                with lock:\n",
    "                    workflows[str(chat)] = extracted_workflows\n",
    "                    if len(workflows) % 10 == 0:\n",
    "                        print(f\"Workflows from {len(workflows)} chats extracted!\")\n",
    "            except Exception as e:\n",
    "                logger.warning(e, str(chat))\n",
    "            indexes.task_done()\n",
    "\n",
    "    logger.info(\n",
    "        f\"Starting processing {len(chats)} chats with {concurrency} workers\")\n",
    "    workers = [\n",
    "        threading.Thread(target=workflow_labeler_worker)\n",
    "        for _ in range(concurrency)\n",
    "    ]\n",
    "    for worker in workers:\n",
    "        worker.start()\n",
    "    for worker in workers:\n",
    "        worker.join()\n",
    "    logger.info(f\"Finished processing all {len(chats)} chats\")\n",
    "\n",
    "    return workflows"
   ]
  },
  {
   "cell_type": "code",
   "execution_count": 27,
   "id": "1aefb919-3d2e-4cea-a6f2-f593a3e251ff",
   "metadata": {
    "scrolled": true,
    "tags": []
   },
   "outputs": [
    {
     "name": "stderr",
     "output_type": "stream",
     "text": [
      "{\"message\": \"use case id not set, fallback to use profile id care-voice\", \"name\": \"greyparrot.common.customers\", \"asctime\": \"2025-02-13 21:56:11\", \"levelname\": \"WARNING\", \"filename\": \"customers.py\", \"funcName\": \"__init__\", \"threadName\": \"MainThread\", \"status\": \"WARNING\"}\n",
      "{\"message\": \"use case id not set, fallback to use profile id care-voice\", \"name\": \"greyparrot.common.customers\", \"asctime\": \"2025-02-13 21:56:11\", \"levelname\": \"WARNING\", \"filename\": \"customers.py\", \"funcName\": \"__init__\", \"threadName\": \"MainThread\", \"status\": \"WARNING\"}\n"
     ]
    },
    {
     "name": "stdout",
     "output_type": "stream",
     "text": [
      "cmd: cresta-cli connstring -i voice-prod voice-prod brinks-care-voice-FKrGHU -r\n",
      "cmd: cresta-cli connstring -i voice-prod voice-prod brinks-care-voice -r\n"
     ]
    },
    {
     "name": "stderr",
     "output_type": "stream",
     "text": [
      "{\"message\": \"Discovering Agent flow in chat 0843c54c-6487-45ce-946a-cc6257484f54\", \"name\": \"__main__\", \"asctime\": \"2025-02-13 21:56:13\", \"levelname\": \"INFO\", \"filename\": \"<ipython-input-25-6a60bf4efb16>\", \"funcName\": \"discover_flow_in_chat\", \"threadName\": \"MainThread\", \"status\": \"INFO\"}\n"
     ]
    }
   ],
   "source": [
    "test_chat: PartialChat = get_chats_with_ids([\"0843c54c-6487-45ce-946a-cc6257484f54\"])[0]\n",
    "workflows: list[Flow] = discover_flow_in_chat(test_chat)"
   ]
  },
  {
   "cell_type": "code",
   "execution_count": 28,
   "id": "ca1238bb",
   "metadata": {},
   "outputs": [
    {
     "name": "stdout",
     "output_type": "stream",
     "text": [
      "Customer: Technical support\n",
      "Agent: Thank you for being the best part of Brinks Home. My name is Juan. Who do I have the pleasure of speaking with?\n",
      "Customer: Debbie. Deborah Terryya.\n",
      "Agent: Good morning, missus Deborah. How can I assist you?\n",
      "Customer: Okay. On December 16th, I had Brinks installed. I had one. Camera put on my front door, and I had one put on the tireport, and then I went out of town for a couple weeks. And only my carport has been working since December 6th eight. And I clicked on the troubleshoot for my front door, and it just keeps coming up that there's a problem. I mean, I did I did everything it told me to do. I unplugged the power cord, and told me to wait 5 minutes. And it was trying to find what the problem was. And it is still not responding my front door.\n",
      "Agent: The front door. The other\n",
      "Customer: Which would be by my court\n",
      "Agent: Okay. Gotcha. Let me get into the account real quick. And let me just double check what is happening to that sensor.\n",
      "Customer: Yeah.\n",
      "Agent: I mean, to that camera,\n",
      "Customer: The December [NUMBER-SEQ]th was when everything was hooked up, and then I took off the next day, and I've been gone a couple weeks.\n",
      "Agent: Okay.\n",
      "Customer: So I haven't been able to call you. So that one hasn't even worked. For a couple weeks because I was out of town and it was coming up on my phone that my carport was working. And, you know, of course, with the holiday this week, and I couldn't call you till today.\n",
      "Agent: Thank you. May I have the phone number related to the account?\n",
      "Customer: Yes. It's 248 8186388.\n",
      "Agent: Thank you. May I have your full address?\n",
      "Customer: [NUMBER-SEQ] [NUMBER-SEQ] [NUMBER-SEQ] Vegas Valley Drive, Space [NUMBER-SEQ], Las Vegas. [NUMBER-SEQ].\n",
      "Agent: Thank you. May I have your verbal password?\n",
      "Customer: My what?\n",
      "Agent: A variable password.\n",
      "Customer: Okay. That's not my [NUMBER-SEQ] digit PIN. It's my password. It's Sassy.\n",
      "Agent: Thank you. We'll need your email.\n",
      "Customer: It's d a my last name, which is Terryya, atyahoo.com.\n",
      "Agent: Thank you, missus Carrea. Give me one second. In the meantime, can you How may I go into the front door camera?\n",
      "Customer: Okay. Hold on just go to the camera. Okay. Hold on. I just gotta get some shoes sorry.\n",
      "Agent: Sure. Let me know.\n",
      "Customer: Okay. Yay. There's that one. Okay. I'm almost there.\n",
      "Agent: No worries. That's okay.\n",
      "Customer: Okay. I see the camera.\n",
      "Agent: Okay. What color is the LED on the camera?\n",
      "Customer: LED on the camera. Well, I don't see anything. Let me go see what I'm looking for by looking at the other one because that one's working.\n",
      "Customer: Okay. Okay. I see a green on the carport, I see that it's a little item on the bottom. Okay. Let me see. But this one has This one has nothing.\n",
      "Customer: I don't see any color.\n",
      "Agent: No light at all?\n",
      "Customer: No light at all.\n",
      "Agent: Okay. Can you help me out going to the to the power supply and unplugging that camera from the power supply.\n",
      "Agent: Make sure that it's that camera power supply, please.\n",
      "Customer: Okay. Yep. Yes. Because one's on one side my room and one's down the other. Okay. I'm gonna go. I'm sorry. Yep. There's no little light at all. So let me don't have that.\n",
      "Customer: Okay. I am plugged up.\n",
      "Agent: Go ahead. Sorry.\n",
      "Customer: I already unplugged it. I just unplugged it.\n",
      "Agent: Okay. Thank you. Let's wait. Okay? Let's wait around 32 seconds to 1 minute.\n",
      "Customer: Okay.\n",
      "Agent: Thank you.\n",
      "Agent: Let me check.\n",
      "Agent: Okay? Can you help me out? Well, before do before reconnecting the camera. You did make sure that that was the power supply for the front door. Camera. Right?\n",
      "Customer: For the front porch.\n",
      "Agent: Right.\n",
      "Customer: Yes. This is the correct camera for the front porch.\n",
      "Agent: Okay. Can you reconnect the power supply.\n",
      "Customer: Okay.\n",
      "Agent: Thank you.\n",
      "Customer: Okay. I just plugged it back in.\n",
      "Agent: Okay. Let's go to the camera, and you will let me know what color is the LED.\n",
      "Customer: Okay. Sorry. I I go back outside.\n",
      "Agent: Take your time. No worries.\n",
      "Customer: I have not then.\n",
      "Agent: Nothing.\n",
      "Customer: No. My other one is green, and my carport. This one didn't do nothing.\n",
      "Agent: Okay.\n",
      "Agent: Just want to make one more thing. Okay?\n",
      "Customer: Okay.\n",
      "Agent: I want you to take something like a phone charger, something. So we can test if that power supply I mean, if if that's outlet, it's supplying energy. To the power supply.\n",
      "Customer: Okay. What do you want me to do again?\n",
      "Agent: I want you to take something to test the power outlet. Where the power supply is connected to.\n",
      "Customer: Okay. So like, I'm gonna charge my phones.\n",
      "Agent: That's okay.\n",
      "Customer: Alright. So I'm gonna charge my phone in that same outlet to see if it's working. Okay?\n",
      "Agent: That's perfect. Thank you.\n",
      "Customer: Okay. And my phone charger. K. Okay.\n",
      "Customer: Yep. My phone's charging\n",
      "Agent: Okay. So it is supplying energy.\n",
      "Customer: Yep.\n",
      "Agent: Okay. Gotcha. Then the power supply, it's not working. Which that's very weird. That only happens if you have several power outages.\n",
      "Customer: Oh, Yeah. I don't know. I mean, it only worked on December 6 teenth, and it hasn't worked since then. It says the last time it detected, was December 16th. So it hasn't been working since after the guy put it up.\n",
      "Customer: It worked must have been for a minute. Then like I said, I left the next day And it says the last time it recorded, anything was the 6 8th December.\n",
      "Agent: Okay.\n",
      "Agent: Don't worry.\n",
      "Customer: Like I said, I was out of town, so I was on me. Getting stuff on my phone from the carport. For 2 weeks. So that camera has not been working for 2 weeks.\n",
      "Agent: K. Let me just view the report, and let me know when you're ready I'm gonna give you a phone number so you can have a technician in there to To fix it?\n",
      "Customer: Okay. This is no charge to me. Right?\n",
      "Agent: Will not because it's within a month. Does show Mac.\n",
      "Customer: It didn't work from the first day, put it in.\n",
      "Agent: Right.\n",
      "Customer: December 16, Okay. I'm ready for the number.\n",
      "Agent: 888\n",
      "Agent: 75\n",
      "Customer: K. Okay. 9732.\n",
      "Agent: 9732.\n",
      "Agent: That's a skyline. That's the people that installed the system. They are the ones that are in charge of taking care of your system.\n",
      "Customer: Okay. Ready. Sounds good. So there's nothing else I can do.\n",
      "Agent: Hi. Not right now. Do you need everything that you could\n",
      "Customer: Okay. Alrighty.\n",
      "Agent: Just want to remind you,\n",
      "Customer: Alright. I will give I will give them a call then\n",
      "Agent: Mhmm. Perfect. Just one for a moment. Give you will be receiving a survey to rate my services via text, Really appreciate if you answered that survey for me.\n",
      "Customer: Alright. You're well.\n",
      "Agent: That's all. Have a great day. Thank you.\n",
      "Customer: Okay. Yes. Thank you for your help.\n",
      "Agent: No. Happy New Year?\n",
      "Customer: Thank Happy New Year to you too.\n",
      "Agent: Thank you.\n",
      "Customer: Have a good day. Bye bye.\n",
      "Agent: Bye.\n"
     ]
    }
   ],
   "source": [
    "print(chat_to_prompt_text(test_chat))"
   ]
  },
  {
   "cell_type": "code",
   "execution_count": 29,
   "id": "56a6064d-1c44-4811-9245-d5e83d838178",
   "metadata": {},
   "outputs": [
    {
     "name": "stdout",
     "output_type": "stream",
     "text": [
      "Found 1 workflows\n",
      "\n",
      "[Agent Workflow #1]\n",
      "Product: Security Camera\n",
      "Issue: Camera Not Recording\n",
      "Steps:\n",
      "* Verify customer account details including phone number, address, and verbal password.\n",
      "* Instruct customer to check the LED status on the front door camera.\n",
      "* If no light is visible, guide customer to unplug the camera from the power supply.\n",
      "* Instruct customer to wait for 30 seconds to 1 minute before reconnecting the power supply.\n",
      "* Confirm with the customer that they are reconnecting the correct power supply for the front door camera.\n",
      "* After reconnecting, ask the customer to check the LED status again.\n",
      "* If still no light, instruct customer to test the power outlet by plugging in a phone charger to ensure it is supplying power.\n",
      "* If the outlet is working, conclude that the power supply for the camera is faulty and inform the customer that a technician will need to be dispatched to fix the issue.\n"
     ]
    }
   ],
   "source": [
    "print(f\"Found {len(workflows)} workflows\\n\")\n",
    "for i, flow in enumerate(workflows):\n",
    "    print(f\"[Agent Workflow #{i + 1}]\")\n",
    "    print(f\"Product: {flow.product}\")\n",
    "    print(f\"Issue: {flow.issue}\")\n",
    "    print(\"Steps:\", end=\"\\n* \")\n",
    "    print(\"\\n* \".join(flow.steps))\n",
    "    if i < len(workflows) - 1:\n",
    "        print(\"-\" * 100)"
   ]
  },
  {
   "cell_type": "markdown",
   "id": "5593f36c-c4c0-4fac-9e09-b64e0f8d65d2",
   "metadata": {},
   "source": [
    "# Relevant chats (from KA-QE trainset)"
   ]
  },
  {
   "cell_type": "code",
   "execution_count": 30,
   "id": "034f74c9",
   "metadata": {},
   "outputs": [
    {
     "name": "stderr",
     "output_type": "stream",
     "text": [
      "{\"message\": \"use case id not set, fallback to use profile id care-voice\", \"name\": \"greyparrot.common.customers\", \"asctime\": \"2025-02-13 21:56:34\", \"levelname\": \"WARNING\", \"filename\": \"customers.py\", \"funcName\": \"__init__\", \"threadName\": \"MainThread\", \"status\": \"WARNING\"}\n",
      "{\"message\": \"use case id not set, fallback to use profile id care-voice\", \"name\": \"greyparrot.common.customers\", \"asctime\": \"2025-02-13 21:56:34\", \"levelname\": \"WARNING\", \"filename\": \"customers.py\", \"funcName\": \"__init__\", \"threadName\": \"MainThread\", \"status\": \"WARNING\"}\n",
      "{\"message\": \"use case id not set, fallback to use profile id care-voice\", \"name\": \"greyparrot.common.customers\", \"asctime\": \"2025-02-13 21:56:34\", \"levelname\": \"WARNING\", \"filename\": \"customers.py\", \"funcName\": \"__init__\", \"threadName\": \"MainThread\", \"status\": \"WARNING\"}\n"
     ]
    },
    {
     "name": "stdout",
     "output_type": "stream",
     "text": [
      "cmd: cresta-cli connstring -i voice-prod voice-prod brinks-care-voice-FKrGHU -r\n",
      "cmd: cresta-cli connstring -i voice-prod voice-prod brinks-care-voice -r\n"
     ]
    },
    {
     "name": "stderr",
     "output_type": "stream",
     "text": [
      "200it [00:01, 109.25it/s]\n",
      "{\"message\": \"Caching to cache_chats-6cdad05445414399627e4b4e59113f84.pkl\", \"name\": \"cache-utils\", \"asctime\": \"2025-02-13 21:56:38\", \"levelname\": \"INFO\", \"filename\": \"cache.py\", \"funcName\": \"wrapper\", \"threadName\": \"MainThread\", \"status\": \"INFO\"}\n",
      "{\"message\": \"Saving dataset to cache_chats-6cdad05445414399627e4b4e59113f84.pkl\", \"name\": \"dataset-common\", \"asctime\": \"2025-02-13 21:56:38\", \"levelname\": \"INFO\", \"filename\": \"common.py\", \"funcName\": \"save\", \"threadName\": \"MainThread\", \"status\": \"INFO\"}\n"
     ]
    }
   ],
   "source": [
    "data_set = get_chats(\n",
    "    'brinks-care-voice', \n",
    "    '2024-06-01',\n",
    "    '2024-12-01',\n",
    "    200,)"
   ]
  },
  {
   "cell_type": "code",
   "execution_count": 31,
   "id": "cb47768b-bd30-4000-8dc2-73dc170bd110",
   "metadata": {},
   "outputs": [
    {
     "name": "stdout",
     "output_type": "stream",
     "text": [
      "200\n"
     ]
    }
   ],
   "source": [
    "sampled_chat_ids = list(set([\n",
    "    chat.chat_name\n",
    "    for chat in (item if not isinstance(item, tuple) else item[0] for item in data_set)\n",
    "    if hasattr(chat, 'chat_name')\n",
    "]))\n",
    "print(len(sampled_chat_ids))"
   ]
  },
  {
   "cell_type": "markdown",
   "id": "2a04fb3d-0c9e-4a97-b074-c967ef49f05b",
   "metadata": {},
   "source": [
    "# Agent Workflow Discovery"
   ]
  },
  {
   "cell_type": "code",
   "execution_count": 32,
   "id": "b2fc69a6",
   "metadata": {},
   "outputs": [
    {
     "name": "stderr",
     "output_type": "stream",
     "text": [
      "{\"message\": \"use case id not set, fallback to use profile id care-voice\", \"name\": \"greyparrot.common.customers\", \"asctime\": \"2025-02-13 21:56:45\", \"levelname\": \"WARNING\", \"filename\": \"customers.py\", \"funcName\": \"__init__\", \"threadName\": \"MainThread\", \"status\": \"WARNING\"}\n",
      "{\"message\": \"use case id not set, fallback to use profile id care-voice\", \"name\": \"greyparrot.common.customers\", \"asctime\": \"2025-02-13 21:56:45\", \"levelname\": \"WARNING\", \"filename\": \"customers.py\", \"funcName\": \"__init__\", \"threadName\": \"MainThread\", \"status\": \"WARNING\"}\n"
     ]
    },
    {
     "name": "stdout",
     "output_type": "stream",
     "text": [
      "cmd: cresta-cli connstring -i voice-prod voice-prod brinks-care-voice-FKrGHU -r\n",
      "cmd: cresta-cli connstring -i voice-prod voice-prod brinks-care-voice -r\n"
     ]
    }
   ],
   "source": [
    "sampled_chats = get_chats_with_ids(sampled_chat_ids)"
   ]
  },
  {
   "cell_type": "code",
   "execution_count": 35,
   "id": "6bc0f6fa-e10a-41cf-bffc-04e6138493bf",
   "metadata": {
    "scrolled": true,
    "tags": []
   },
   "outputs": [
    {
     "name": "stderr",
     "output_type": "stream",
     "text": [
      "{\"message\": \"Starting processing 199 chats with 10 workers\", \"name\": \"__main__\", \"asctime\": \"2025-02-13 21:57:55\", \"levelname\": \"INFO\", \"filename\": \"<ipython-input-34-e96ef876503f>\", \"funcName\": \"extract_flows_from_chats\", \"threadName\": \"MainThread\", \"status\": \"INFO\"}\n",
      "{\"message\": \"Discovering Agent flow in chat 000c68d2-6c21-4ddf-ab75-fb32b2ce0fc8\", \"name\": \"__main__\", \"asctime\": \"2025-02-13 21:57:55\", \"levelname\": \"INFO\", \"filename\": \"<ipython-input-25-6a60bf4efb16>\", \"funcName\": \"discover_flow_in_chat\", \"threadName\": \"Thread-19 (workflow_labeler_worker)\", \"status\": \"INFO\"}\n",
      "{\"message\": \"Discovering Agent flow in chat 0017ec90-12c7-44dc-932c-f10b38ce0b9a\", \"name\": \"__main__\", \"asctime\": \"2025-02-13 21:57:55\", \"levelname\": \"INFO\", \"filename\": \"<ipython-input-25-6a60bf4efb16>\", \"funcName\": \"discover_flow_in_chat\", \"threadName\": \"Thread-20 (workflow_labeler_worker)\", \"status\": \"INFO\"}\n",
      "{\"message\": \"Discovering Agent flow in chat 0039e60e-247f-4a8d-80d1-18d380344dce\", \"name\": \"__main__\", \"asctime\": \"2025-02-13 21:57:55\", \"levelname\": \"INFO\", \"filename\": \"<ipython-input-25-6a60bf4efb16>\", \"funcName\": \"discover_flow_in_chat\", \"threadName\": \"Thread-21 (workflow_labeler_worker)\", \"status\": \"INFO\"}\n",
      "{\"message\": \"Discovering Agent flow in chat 003d4df3-7a15-43a7-8273-adfea1e92ff2\", \"name\": \"__main__\", \"asctime\": \"2025-02-13 21:57:55\", \"levelname\": \"INFO\", \"filename\": \"<ipython-input-25-6a60bf4efb16>\", \"funcName\": \"discover_flow_in_chat\", \"threadName\": \"Thread-22 (workflow_labeler_worker)\", \"status\": \"INFO\"}\n",
      "{\"message\": \"Discovering Agent flow in chat 003da834-0050-4172-9ec5-24bb5bd04807\", \"name\": \"__main__\", \"asctime\": \"2025-02-13 21:57:55\", \"levelname\": \"INFO\", \"filename\": \"<ipython-input-25-6a60bf4efb16>\", \"funcName\": \"discover_flow_in_chat\", \"threadName\": \"Thread-23 (workflow_labeler_worker)\", \"status\": \"INFO\"}\n",
      "{\"message\": \"Discovering Agent flow in chat 007a6a24-3ed0-467d-9281-f01f7f844ab4\", \"name\": \"__main__\", \"asctime\": \"2025-02-13 21:57:55\", \"levelname\": \"INFO\", \"filename\": \"<ipython-input-25-6a60bf4efb16>\", \"funcName\": \"discover_flow_in_chat\", \"threadName\": \"Thread-24 (workflow_labeler_worker)\", \"status\": \"INFO\"}\n",
      "{\"message\": \"Discovering Agent flow in chat 00aa2f4e-0d7e-4d3b-bf6b-5dd886d2ea57\", \"name\": \"__main__\", \"asctime\": \"2025-02-13 21:57:55\", \"levelname\": \"INFO\", \"filename\": \"<ipython-input-25-6a60bf4efb16>\", \"funcName\": \"discover_flow_in_chat\", \"threadName\": \"Thread-25 (workflow_labeler_worker)\", \"status\": \"INFO\"}\n",
      "{\"message\": \"Discovering Agent flow in chat 00baf478-4817-4196-bf17-3c099cab57ac\", \"name\": \"__main__\", \"asctime\": \"2025-02-13 21:57:55\", \"levelname\": \"INFO\", \"filename\": \"<ipython-input-25-6a60bf4efb16>\", \"funcName\": \"discover_flow_in_chat\", \"threadName\": \"Thread-26 (workflow_labeler_worker)\", \"status\": \"INFO\"}\n",
      "{\"message\": \"Discovering Agent flow in chat 00cc27ec-673a-4873-8d08-662c2a957f75\", \"name\": \"__main__\", \"asctime\": \"2025-02-13 21:57:55\", \"levelname\": \"INFO\", \"filename\": \"<ipython-input-25-6a60bf4efb16>\", \"funcName\": \"discover_flow_in_chat\", \"threadName\": \"Thread-27 (workflow_labeler_worker)\", \"status\": \"INFO\"}\n",
      "{\"message\": \"Discovering Agent flow in chat 00dc555d-5c63-4e4c-b0cc-16f0cc3e1708\", \"name\": \"__main__\", \"asctime\": \"2025-02-13 21:57:55\", \"levelname\": \"INFO\", \"filename\": \"<ipython-input-25-6a60bf4efb16>\", \"funcName\": \"discover_flow_in_chat\", \"threadName\": \"Thread-28 (workflow_labeler_worker)\", \"status\": \"INFO\"}\n"
     ]
    },
    {
     "name": "stderr",
     "output_type": "stream",
     "text": [
      "{\"message\": \"Discovering Agent flow in chat 01086912-66f0-4cdc-b38b-9941fedaca8d\", \"name\": \"__main__\", \"asctime\": \"2025-02-13 21:57:56\", \"levelname\": \"INFO\", \"filename\": \"<ipython-input-25-6a60bf4efb16>\", \"funcName\": \"discover_flow_in_chat\", \"threadName\": \"Thread-22 (workflow_labeler_worker)\", \"status\": \"INFO\"}\n",
      "{\"message\": \"Discovering Agent flow in chat 01124bf9-4f07-4bf1-a86d-30c4fc6278d6\", \"name\": \"__main__\", \"asctime\": \"2025-02-13 21:57:57\", \"levelname\": \"INFO\", \"filename\": \"<ipython-input-25-6a60bf4efb16>\", \"funcName\": \"discover_flow_in_chat\", \"threadName\": \"Thread-23 (workflow_labeler_worker)\", \"status\": \"INFO\"}\n",
      "{\"message\": \"Discovering Agent flow in chat 01532d84-1f4b-407f-84aa-54a29374b496\", \"name\": \"__main__\", \"asctime\": \"2025-02-13 21:57:58\", \"levelname\": \"INFO\", \"filename\": \"<ipython-input-25-6a60bf4efb16>\", \"funcName\": \"discover_flow_in_chat\", \"threadName\": \"Thread-27 (workflow_labeler_worker)\", \"status\": \"INFO\"}\n",
      "{\"message\": \"Discovering Agent flow in chat 0167a38e-2cbd-42ef-ae30-32f277e3c3dc\", \"name\": \"__main__\", \"asctime\": \"2025-02-13 21:57:58\", \"levelname\": \"INFO\", \"filename\": \"<ipython-input-25-6a60bf4efb16>\", \"funcName\": \"discover_flow_in_chat\", \"threadName\": \"Thread-19 (workflow_labeler_worker)\", \"status\": \"INFO\"}\n",
      "{\"message\": \"Discovering Agent flow in chat 019d521d-47ff-47e0-a76b-b541834d149b\", \"name\": \"__main__\", \"asctime\": \"2025-02-13 21:57:58\", \"levelname\": \"INFO\", \"filename\": \"<ipython-input-25-6a60bf4efb16>\", \"funcName\": \"discover_flow_in_chat\", \"threadName\": \"Thread-25 (workflow_labeler_worker)\", \"status\": \"INFO\"}\n",
      "{\"message\": \"Discovering Agent flow in chat 01a031db-b177-4d5b-bd6c-c6f462df4cb9\", \"name\": \"__main__\", \"asctime\": \"2025-02-13 21:57:58\", \"levelname\": \"INFO\", \"filename\": \"<ipython-input-25-6a60bf4efb16>\", \"funcName\": \"discover_flow_in_chat\", \"threadName\": \"Thread-28 (workflow_labeler_worker)\", \"status\": \"INFO\"}\n",
      "{\"message\": \"Discovering Agent flow in chat 01ca3756-8aa9-4c25-981d-6b8d2171ddd9\", \"name\": \"__main__\", \"asctime\": \"2025-02-13 21:57:59\", \"levelname\": \"INFO\", \"filename\": \"<ipython-input-25-6a60bf4efb16>\", \"funcName\": \"discover_flow_in_chat\", \"threadName\": \"Thread-28 (workflow_labeler_worker)\", \"status\": \"INFO\"}\n",
      "{\"message\": \"Discovering Agent flow in chat 020a72f7-ad86-47b0-a739-6e0229d20785\", \"name\": \"__main__\", \"asctime\": \"2025-02-13 21:57:59\", \"levelname\": \"INFO\", \"filename\": \"<ipython-input-25-6a60bf4efb16>\", \"funcName\": \"discover_flow_in_chat\", \"threadName\": \"Thread-27 (workflow_labeler_worker)\", \"status\": \"INFO\"}\n",
      "{\"message\": \"Discovering Agent flow in chat 0221679a-d367-4e44-929d-cfce53ef6432\", \"name\": \"__main__\", \"asctime\": \"2025-02-13 21:57:59\", \"levelname\": \"INFO\", \"filename\": \"<ipython-input-25-6a60bf4efb16>\", \"funcName\": \"discover_flow_in_chat\", \"threadName\": \"Thread-21 (workflow_labeler_worker)\", \"status\": \"INFO\"}\n",
      "{\"message\": \"Discovering Agent flow in chat 0230fded-e899-4a39-96e9-4b4d3698971c\", \"name\": \"__main__\", \"asctime\": \"2025-02-13 21:57:59\", \"levelname\": \"INFO\", \"filename\": \"<ipython-input-25-6a60bf4efb16>\", \"funcName\": \"discover_flow_in_chat\", \"threadName\": \"Thread-22 (workflow_labeler_worker)\", \"status\": \"INFO\"}\n"
     ]
    },
    {
     "name": "stdout",
     "output_type": "stream",
     "text": [
      "Workflows from 10 chats extracted!\n"
     ]
    },
    {
     "name": "stderr",
     "output_type": "stream",
     "text": [
      "{\"message\": \"Discovering Agent flow in chat 023640bb-240c-4819-9c5a-d9b41ecddff7\", \"name\": \"__main__\", \"asctime\": \"2025-02-13 21:57:59\", \"levelname\": \"INFO\", \"filename\": \"<ipython-input-25-6a60bf4efb16>\", \"funcName\": \"discover_flow_in_chat\", \"threadName\": \"Thread-19 (workflow_labeler_worker)\", \"status\": \"INFO\"}\n",
      "{\"message\": \"Discovering Agent flow in chat 0257d209-a041-47cc-baa8-70a785504964\", \"name\": \"__main__\", \"asctime\": \"2025-02-13 21:58:00\", \"levelname\": \"INFO\", \"filename\": \"<ipython-input-25-6a60bf4efb16>\", \"funcName\": \"discover_flow_in_chat\", \"threadName\": \"Thread-23 (workflow_labeler_worker)\", \"status\": \"INFO\"}\n",
      "{\"message\": \"Discovering Agent flow in chat 0297c7d2-a6a2-4559-944a-4727df5b9b6f\", \"name\": \"__main__\", \"asctime\": \"2025-02-13 21:58:00\", \"levelname\": \"INFO\", \"filename\": \"<ipython-input-25-6a60bf4efb16>\", \"funcName\": \"discover_flow_in_chat\", \"threadName\": \"Thread-24 (workflow_labeler_worker)\", \"status\": \"INFO\"}\n",
      "{\"message\": \"Discovering Agent flow in chat 034f5b00-e216-401d-8bd1-67a6914ee4e5\", \"name\": \"__main__\", \"asctime\": \"2025-02-13 21:58:00\", \"levelname\": \"INFO\", \"filename\": \"<ipython-input-25-6a60bf4efb16>\", \"funcName\": \"discover_flow_in_chat\", \"threadName\": \"Thread-25 (workflow_labeler_worker)\", \"status\": \"INFO\"}\n",
      "{\"message\": \"Discovering Agent flow in chat 037b2032-8cff-4f06-9af9-c6f35c789ee8\", \"name\": \"__main__\", \"asctime\": \"2025-02-13 21:58:00\", \"levelname\": \"INFO\", \"filename\": \"<ipython-input-25-6a60bf4efb16>\", \"funcName\": \"discover_flow_in_chat\", \"threadName\": \"Thread-20 (workflow_labeler_worker)\", \"status\": \"INFO\"}\n",
      "{\"message\": \"Discovering Agent flow in chat 03af99f2-aacb-4903-8110-06605c3c9211\", \"name\": \"__main__\", \"asctime\": \"2025-02-13 21:58:00\", \"levelname\": \"INFO\", \"filename\": \"<ipython-input-25-6a60bf4efb16>\", \"funcName\": \"discover_flow_in_chat\", \"threadName\": \"Thread-27 (workflow_labeler_worker)\", \"status\": \"INFO\"}\n",
      "{\"message\": \"Discovering Agent flow in chat 03b7721b-f448-4e92-934e-5bd13ad2e836\", \"name\": \"__main__\", \"asctime\": \"2025-02-13 21:58:01\", \"levelname\": \"INFO\", \"filename\": \"<ipython-input-25-6a60bf4efb16>\", \"funcName\": \"discover_flow_in_chat\", \"threadName\": \"Thread-26 (workflow_labeler_worker)\", \"status\": \"INFO\"}\n",
      "{\"message\": \"Discovering Agent flow in chat 03c417dd-cab6-43eb-bf66-6228bcb7927c\", \"name\": \"__main__\", \"asctime\": \"2025-02-13 21:58:01\", \"levelname\": \"INFO\", \"filename\": \"<ipython-input-25-6a60bf4efb16>\", \"funcName\": \"discover_flow_in_chat\", \"threadName\": \"Thread-28 (workflow_labeler_worker)\", \"status\": \"INFO\"}\n",
      "{\"message\": \"Discovering Agent flow in chat 03cdbc5b-5b18-4260-9b32-6fe61553fa54\", \"name\": \"__main__\", \"asctime\": \"2025-02-13 21:58:01\", \"levelname\": \"INFO\", \"filename\": \"<ipython-input-25-6a60bf4efb16>\", \"funcName\": \"discover_flow_in_chat\", \"threadName\": \"Thread-21 (workflow_labeler_worker)\", \"status\": \"INFO\"}\n",
      "{\"message\": \"Discovering Agent flow in chat 03f9e0a0-d434-4067-9d92-75f895bfe9ec\", \"name\": \"__main__\", \"asctime\": \"2025-02-13 21:58:01\", \"levelname\": \"INFO\", \"filename\": \"<ipython-input-25-6a60bf4efb16>\", \"funcName\": \"discover_flow_in_chat\", \"threadName\": \"Thread-25 (workflow_labeler_worker)\", \"status\": \"INFO\"}\n"
     ]
    },
    {
     "name": "stdout",
     "output_type": "stream",
     "text": [
      "Workflows from 20 chats extracted!\n"
     ]
    },
    {
     "name": "stderr",
     "output_type": "stream",
     "text": [
      "{\"message\": \"Discovering Agent flow in chat 040d4804-0ef6-4a89-a4da-f08d92734bff\", \"name\": \"__main__\", \"asctime\": \"2025-02-13 21:58:02\", \"levelname\": \"INFO\", \"filename\": \"<ipython-input-25-6a60bf4efb16>\", \"funcName\": \"discover_flow_in_chat\", \"threadName\": \"Thread-23 (workflow_labeler_worker)\", \"status\": \"INFO\"}\n",
      "{\"message\": \"Discovering Agent flow in chat 04203a12-c613-4cd4-a6fd-f01c4a6f40a2\", \"name\": \"__main__\", \"asctime\": \"2025-02-13 21:58:02\", \"levelname\": \"INFO\", \"filename\": \"<ipython-input-25-6a60bf4efb16>\", \"funcName\": \"discover_flow_in_chat\", \"threadName\": \"Thread-22 (workflow_labeler_worker)\", \"status\": \"INFO\"}\n",
      "{\"message\": \"Discovering Agent flow in chat 044696fe-ba32-4ce6-a705-c25ce7a923ff\", \"name\": \"__main__\", \"asctime\": \"2025-02-13 21:58:02\", \"levelname\": \"INFO\", \"filename\": \"<ipython-input-25-6a60bf4efb16>\", \"funcName\": \"discover_flow_in_chat\", \"threadName\": \"Thread-20 (workflow_labeler_worker)\", \"status\": \"INFO\"}\n",
      "{\"message\": \"Discovering Agent flow in chat 04758b07-a186-42e1-b88d-13b644c905cc\", \"name\": \"__main__\", \"asctime\": \"2025-02-13 21:58:02\", \"levelname\": \"INFO\", \"filename\": \"<ipython-input-25-6a60bf4efb16>\", \"funcName\": \"discover_flow_in_chat\", \"threadName\": \"Thread-24 (workflow_labeler_worker)\", \"status\": \"INFO\"}\n",
      "{\"message\": \"Discovering Agent flow in chat 04c6199a-0ec4-4c9e-b4e0-0c448bdffb6e\", \"name\": \"__main__\", \"asctime\": \"2025-02-13 21:58:02\", \"levelname\": \"INFO\", \"filename\": \"<ipython-input-25-6a60bf4efb16>\", \"funcName\": \"discover_flow_in_chat\", \"threadName\": \"Thread-27 (workflow_labeler_worker)\", \"status\": \"INFO\"}\n",
      "{\"message\": \"Discovering Agent flow in chat 04d8ed2b-e671-4815-b2ab-3036e37aeae3\", \"name\": \"__main__\", \"asctime\": \"2025-02-13 21:58:02\", \"levelname\": \"INFO\", \"filename\": \"<ipython-input-25-6a60bf4efb16>\", \"funcName\": \"discover_flow_in_chat\", \"threadName\": \"Thread-19 (workflow_labeler_worker)\", \"status\": \"INFO\"}\n",
      "{\"message\": \"Discovering Agent flow in chat 04e436d0-6ae4-40bc-b57d-f7372af15869\", \"name\": \"__main__\", \"asctime\": \"2025-02-13 21:58:03\", \"levelname\": \"INFO\", \"filename\": \"<ipython-input-25-6a60bf4efb16>\", \"funcName\": \"discover_flow_in_chat\", \"threadName\": \"Thread-28 (workflow_labeler_worker)\", \"status\": \"INFO\"}\n",
      "{\"message\": \"Discovering Agent flow in chat 058fe289-b30b-4e86-9798-62386e2f0f38\", \"name\": \"__main__\", \"asctime\": \"2025-02-13 21:58:03\", \"levelname\": \"INFO\", \"filename\": \"<ipython-input-25-6a60bf4efb16>\", \"funcName\": \"discover_flow_in_chat\", \"threadName\": \"Thread-27 (workflow_labeler_worker)\", \"status\": \"INFO\"}\n",
      "{\"message\": \"Discovering Agent flow in chat 05bc8889-aa34-4e5f-8c46-2971e8929a67\", \"name\": \"__main__\", \"asctime\": \"2025-02-13 21:58:03\", \"levelname\": \"INFO\", \"filename\": \"<ipython-input-25-6a60bf4efb16>\", \"funcName\": \"discover_flow_in_chat\", \"threadName\": \"Thread-26 (workflow_labeler_worker)\", \"status\": \"INFO\"}\n",
      "{\"message\": \"Discovering Agent flow in chat 05c7138d-040e-43d4-aa9e-c60eceebcb1f\", \"name\": \"__main__\", \"asctime\": \"2025-02-13 21:58:03\", \"levelname\": \"INFO\", \"filename\": \"<ipython-input-25-6a60bf4efb16>\", \"funcName\": \"discover_flow_in_chat\", \"threadName\": \"Thread-25 (workflow_labeler_worker)\", \"status\": \"INFO\"}\n"
     ]
    },
    {
     "name": "stdout",
     "output_type": "stream",
     "text": [
      "Workflows from 30 chats extracted!\n"
     ]
    },
    {
     "name": "stderr",
     "output_type": "stream",
     "text": [
      "{\"message\": \"Discovering Agent flow in chat 05cf80cf-6e4f-46ce-9edd-5e9018674062\", \"name\": \"__main__\", \"asctime\": \"2025-02-13 21:58:04\", \"levelname\": \"INFO\", \"filename\": \"<ipython-input-25-6a60bf4efb16>\", \"funcName\": \"discover_flow_in_chat\", \"threadName\": \"Thread-22 (workflow_labeler_worker)\", \"status\": \"INFO\"}\n",
      "{\"message\": \"Discovering Agent flow in chat 05e95ce9-95a5-4b36-8694-05ba68d2a950\", \"name\": \"__main__\", \"asctime\": \"2025-02-13 21:58:04\", \"levelname\": \"INFO\", \"filename\": \"<ipython-input-25-6a60bf4efb16>\", \"funcName\": \"discover_flow_in_chat\", \"threadName\": \"Thread-23 (workflow_labeler_worker)\", \"status\": \"INFO\"}\n",
      "{\"message\": \"Discovering Agent flow in chat 05eedf8d-8f6e-49e0-a793-1203aef1dd4e\", \"name\": \"__main__\", \"asctime\": \"2025-02-13 21:58:04\", \"levelname\": \"INFO\", \"filename\": \"<ipython-input-25-6a60bf4efb16>\", \"funcName\": \"discover_flow_in_chat\", \"threadName\": \"Thread-19 (workflow_labeler_worker)\", \"status\": \"INFO\"}\n",
      "{\"message\": \"Discovering Agent flow in chat 05f3239c-596b-4ce0-ba86-f7c78e48811c\", \"name\": \"__main__\", \"asctime\": \"2025-02-13 21:58:05\", \"levelname\": \"INFO\", \"filename\": \"<ipython-input-25-6a60bf4efb16>\", \"funcName\": \"discover_flow_in_chat\", \"threadName\": \"Thread-20 (workflow_labeler_worker)\", \"status\": \"INFO\"}\n",
      "{\"message\": \"Discovering Agent flow in chat 06213d72-2a3e-4822-9094-fcd409c5325f\", \"name\": \"__main__\", \"asctime\": \"2025-02-13 21:58:05\", \"levelname\": \"INFO\", \"filename\": \"<ipython-input-25-6a60bf4efb16>\", \"funcName\": \"discover_flow_in_chat\", \"threadName\": \"Thread-24 (workflow_labeler_worker)\", \"status\": \"INFO\"}\n",
      "{\"message\": \"Discovering Agent flow in chat 0633c73d-dd6b-48e3-a95d-c4bd9fcacf13\", \"name\": \"__main__\", \"asctime\": \"2025-02-13 21:58:05\", \"levelname\": \"INFO\", \"filename\": \"<ipython-input-25-6a60bf4efb16>\", \"funcName\": \"discover_flow_in_chat\", \"threadName\": \"Thread-25 (workflow_labeler_worker)\", \"status\": \"INFO\"}\n",
      "{\"message\": \"Discovering Agent flow in chat 06572e11-d7b4-4f53-9aca-65c8b36b804e\", \"name\": \"__main__\", \"asctime\": \"2025-02-13 21:58:05\", \"levelname\": \"INFO\", \"filename\": \"<ipython-input-25-6a60bf4efb16>\", \"funcName\": \"discover_flow_in_chat\", \"threadName\": \"Thread-27 (workflow_labeler_worker)\", \"status\": \"INFO\"}\n",
      "{\"message\": \"Discovering Agent flow in chat 068560e3-bb15-438b-96cb-91bf9c54b34e\", \"name\": \"__main__\", \"asctime\": \"2025-02-13 21:58:05\", \"levelname\": \"INFO\", \"filename\": \"<ipython-input-25-6a60bf4efb16>\", \"funcName\": \"discover_flow_in_chat\", \"threadName\": \"Thread-26 (workflow_labeler_worker)\", \"status\": \"INFO\"}\n",
      "{\"message\": \"Discovering Agent flow in chat 068cbc16-5707-4935-832d-7d3ee4a37f3d\", \"name\": \"__main__\", \"asctime\": \"2025-02-13 21:58:06\", \"levelname\": \"INFO\", \"filename\": \"<ipython-input-25-6a60bf4efb16>\", \"funcName\": \"discover_flow_in_chat\", \"threadName\": \"Thread-21 (workflow_labeler_worker)\", \"status\": \"INFO\"}\n",
      "{\"message\": \"Discovering Agent flow in chat 068e204d-3d22-4576-bccb-762eaa7cba59\", \"name\": \"__main__\", \"asctime\": \"2025-02-13 21:58:06\", \"levelname\": \"INFO\", \"filename\": \"<ipython-input-25-6a60bf4efb16>\", \"funcName\": \"discover_flow_in_chat\", \"threadName\": \"Thread-20 (workflow_labeler_worker)\", \"status\": \"INFO\"}\n"
     ]
    },
    {
     "name": "stdout",
     "output_type": "stream",
     "text": [
      "Workflows from 40 chats extracted!\n"
     ]
    },
    {
     "name": "stderr",
     "output_type": "stream",
     "text": [
      "{\"message\": \"Discovering Agent flow in chat 06f04275-4678-47af-b15d-28cba56043e3\", \"name\": \"__main__\", \"asctime\": \"2025-02-13 21:58:06\", \"levelname\": \"INFO\", \"filename\": \"<ipython-input-25-6a60bf4efb16>\", \"funcName\": \"discover_flow_in_chat\", \"threadName\": \"Thread-28 (workflow_labeler_worker)\", \"status\": \"INFO\"}\n",
      "{\"message\": \"Discovering Agent flow in chat 071c6c6d-4294-4f0e-9581-ad621e1871fc\", \"name\": \"__main__\", \"asctime\": \"2025-02-13 21:58:06\", \"levelname\": \"INFO\", \"filename\": \"<ipython-input-25-6a60bf4efb16>\", \"funcName\": \"discover_flow_in_chat\", \"threadName\": \"Thread-19 (workflow_labeler_worker)\", \"status\": \"INFO\"}\n",
      "{\"message\": \"Discovering Agent flow in chat 073a30a5-2e0d-4b55-8658-5b704954a90b\", \"name\": \"__main__\", \"asctime\": \"2025-02-13 21:58:07\", \"levelname\": \"INFO\", \"filename\": \"<ipython-input-25-6a60bf4efb16>\", \"funcName\": \"discover_flow_in_chat\", \"threadName\": \"Thread-27 (workflow_labeler_worker)\", \"status\": \"INFO\"}\n",
      "{\"message\": \"Discovering Agent flow in chat 074c00d3-1ca4-4b2d-98ca-6b401a69f66a\", \"name\": \"__main__\", \"asctime\": \"2025-02-13 21:58:07\", \"levelname\": \"INFO\", \"filename\": \"<ipython-input-25-6a60bf4efb16>\", \"funcName\": \"discover_flow_in_chat\", \"threadName\": \"Thread-23 (workflow_labeler_worker)\", \"status\": \"INFO\"}\n",
      "{\"message\": \"Discovering Agent flow in chat 081008a0-d8f1-498f-8687-8ac0115d5de2\", \"name\": \"__main__\", \"asctime\": \"2025-02-13 21:58:07\", \"levelname\": \"INFO\", \"filename\": \"<ipython-input-25-6a60bf4efb16>\", \"funcName\": \"discover_flow_in_chat\", \"threadName\": \"Thread-26 (workflow_labeler_worker)\", \"status\": \"INFO\"}\n",
      "{\"message\": \"Discovering Agent flow in chat 082fa048-b51b-4c89-b610-ca1472451abd\", \"name\": \"__main__\", \"asctime\": \"2025-02-13 21:58:07\", \"levelname\": \"INFO\", \"filename\": \"<ipython-input-25-6a60bf4efb16>\", \"funcName\": \"discover_flow_in_chat\", \"threadName\": \"Thread-21 (workflow_labeler_worker)\", \"status\": \"INFO\"}\n",
      "{\"message\": \"Discovering Agent flow in chat 08a97e83-ffc6-4459-9b8c-0e5113680a84\", \"name\": \"__main__\", \"asctime\": \"2025-02-13 21:58:07\", \"levelname\": \"INFO\", \"filename\": \"<ipython-input-25-6a60bf4efb16>\", \"funcName\": \"discover_flow_in_chat\", \"threadName\": \"Thread-25 (workflow_labeler_worker)\", \"status\": \"INFO\"}\n",
      "{\"message\": \"Discovering Agent flow in chat 08aa2bdd-671f-4434-9037-7e1a0dfb04c4\", \"name\": \"__main__\", \"asctime\": \"2025-02-13 21:58:07\", \"levelname\": \"INFO\", \"filename\": \"<ipython-input-25-6a60bf4efb16>\", \"funcName\": \"discover_flow_in_chat\", \"threadName\": \"Thread-24 (workflow_labeler_worker)\", \"status\": \"INFO\"}\n",
      "{\"message\": \"Discovering Agent flow in chat 08ad3b9d-3898-4916-a575-5521955d2227\", \"name\": \"__main__\", \"asctime\": \"2025-02-13 21:58:08\", \"levelname\": \"INFO\", \"filename\": \"<ipython-input-25-6a60bf4efb16>\", \"funcName\": \"discover_flow_in_chat\", \"threadName\": \"Thread-28 (workflow_labeler_worker)\", \"status\": \"INFO\"}\n",
      "{\"message\": \"Discovering Agent flow in chat 08af3907-ee64-458c-af16-f40fc9d6bb87\", \"name\": \"__main__\", \"asctime\": \"2025-02-13 21:58:08\", \"levelname\": \"INFO\", \"filename\": \"<ipython-input-25-6a60bf4efb16>\", \"funcName\": \"discover_flow_in_chat\", \"threadName\": \"Thread-20 (workflow_labeler_worker)\", \"status\": \"INFO\"}\n"
     ]
    },
    {
     "name": "stdout",
     "output_type": "stream",
     "text": [
      "Workflows from 50 chats extracted!\n"
     ]
    },
    {
     "name": "stderr",
     "output_type": "stream",
     "text": [
      "{\"message\": \"Discovering Agent flow in chat 08b28c6d-793b-4fb9-8b2b-7001ed3026aa\", \"name\": \"__main__\", \"asctime\": \"2025-02-13 21:58:09\", \"levelname\": \"INFO\", \"filename\": \"<ipython-input-25-6a60bf4efb16>\", \"funcName\": \"discover_flow_in_chat\", \"threadName\": \"Thread-23 (workflow_labeler_worker)\", \"status\": \"INFO\"}\n",
      "{\"message\": \"Discovering Agent flow in chat 096c8148-f2c5-4d32-96e7-80e6e3610740\", \"name\": \"__main__\", \"asctime\": \"2025-02-13 21:58:09\", \"levelname\": \"INFO\", \"filename\": \"<ipython-input-25-6a60bf4efb16>\", \"funcName\": \"discover_flow_in_chat\", \"threadName\": \"Thread-21 (workflow_labeler_worker)\", \"status\": \"INFO\"}\n",
      "{\"message\": \"Discovering Agent flow in chat 096d88a3-edbe-4a62-acb5-205724910f54\", \"name\": \"__main__\", \"asctime\": \"2025-02-13 21:58:09\", \"levelname\": \"INFO\", \"filename\": \"<ipython-input-25-6a60bf4efb16>\", \"funcName\": \"discover_flow_in_chat\", \"threadName\": \"Thread-27 (workflow_labeler_worker)\", \"status\": \"INFO\"}\n",
      "{\"message\": \"Discovering Agent flow in chat 09896ad0-ed6d-41e8-9bc0-22c0633a38a9\", \"name\": \"__main__\", \"asctime\": \"2025-02-13 21:58:09\", \"levelname\": \"INFO\", \"filename\": \"<ipython-input-25-6a60bf4efb16>\", \"funcName\": \"discover_flow_in_chat\", \"threadName\": \"Thread-25 (workflow_labeler_worker)\", \"status\": \"INFO\"}\n",
      "{\"message\": \"Discovering Agent flow in chat 09c7e94d-b261-4740-bea6-5f2f4681db09\", \"name\": \"__main__\", \"asctime\": \"2025-02-13 21:58:10\", \"levelname\": \"INFO\", \"filename\": \"<ipython-input-25-6a60bf4efb16>\", \"funcName\": \"discover_flow_in_chat\", \"threadName\": \"Thread-24 (workflow_labeler_worker)\", \"status\": \"INFO\"}\n",
      "{\"message\": \"Discovering Agent flow in chat 09d42369-475f-4255-99b1-5c37192f5913\", \"name\": \"__main__\", \"asctime\": \"2025-02-13 21:58:10\", \"levelname\": \"INFO\", \"filename\": \"<ipython-input-25-6a60bf4efb16>\", \"funcName\": \"discover_flow_in_chat\", \"threadName\": \"Thread-20 (workflow_labeler_worker)\", \"status\": \"INFO\"}\n",
      "{\"message\": \"Discovering Agent flow in chat 0a2dbda9-20f7-4831-b431-36956a2f8336\", \"name\": \"__main__\", \"asctime\": \"2025-02-13 21:58:10\", \"levelname\": \"INFO\", \"filename\": \"<ipython-input-25-6a60bf4efb16>\", \"funcName\": \"discover_flow_in_chat\", \"threadName\": \"Thread-25 (workflow_labeler_worker)\", \"status\": \"INFO\"}\n",
      "{\"message\": \"Discovering Agent flow in chat 0a4ef9c4-ef4a-4400-85f6-7250ff8a19b7\", \"name\": \"__main__\", \"asctime\": \"2025-02-13 21:58:10\", \"levelname\": \"INFO\", \"filename\": \"<ipython-input-25-6a60bf4efb16>\", \"funcName\": \"discover_flow_in_chat\", \"threadName\": \"Thread-26 (workflow_labeler_worker)\", \"status\": \"INFO\"}\n",
      "{\"message\": \"Discovering Agent flow in chat 0a6703d0-0a07-470e-b38a-72f22f514def\", \"name\": \"__main__\", \"asctime\": \"2025-02-13 21:58:10\", \"levelname\": \"INFO\", \"filename\": \"<ipython-input-25-6a60bf4efb16>\", \"funcName\": \"discover_flow_in_chat\", \"threadName\": \"Thread-23 (workflow_labeler_worker)\", \"status\": \"INFO\"}\n",
      "{\"message\": \"Discovering Agent flow in chat 0a76e3f5-8178-45fa-a08d-eaf2274029b2\", \"name\": \"__main__\", \"asctime\": \"2025-02-13 21:58:11\", \"levelname\": \"INFO\", \"filename\": \"<ipython-input-25-6a60bf4efb16>\", \"funcName\": \"discover_flow_in_chat\", \"threadName\": \"Thread-24 (workflow_labeler_worker)\", \"status\": \"INFO\"}\n",
      "{\"message\": \"Discovering Agent flow in chat 0aa25f55-8996-4e02-b83d-0a7355e871a3\", \"name\": \"__main__\", \"asctime\": \"2025-02-13 21:58:11\", \"levelname\": \"INFO\", \"filename\": \"<ipython-input-25-6a60bf4efb16>\", \"funcName\": \"discover_flow_in_chat\", \"threadName\": \"Thread-21 (workflow_labeler_worker)\", \"status\": \"INFO\"}\n"
     ]
    },
    {
     "name": "stdout",
     "output_type": "stream",
     "text": [
      "Workflows from 60 chats extracted!\n"
     ]
    },
    {
     "name": "stderr",
     "output_type": "stream",
     "text": [
      "{\"message\": \"Discovering Agent flow in chat 0ad0f9fd-9d59-4446-9c85-d887a208d532\", \"name\": \"__main__\", \"asctime\": \"2025-02-13 21:58:12\", \"levelname\": \"INFO\", \"filename\": \"<ipython-input-25-6a60bf4efb16>\", \"funcName\": \"discover_flow_in_chat\", \"threadName\": \"Thread-25 (workflow_labeler_worker)\", \"status\": \"INFO\"}\n",
      "{\"message\": \"Discovering Agent flow in chat 0adb8781-21a8-44f2-b55e-bfa532d6fb28\", \"name\": \"__main__\", \"asctime\": \"2025-02-13 21:58:12\", \"levelname\": \"INFO\", \"filename\": \"<ipython-input-25-6a60bf4efb16>\", \"funcName\": \"discover_flow_in_chat\", \"threadName\": \"Thread-26 (workflow_labeler_worker)\", \"status\": \"INFO\"}\n",
      "{\"message\": \"Discovering Agent flow in chat 0ade3b59-78ec-4429-b533-b6ffad4eaf1f\", \"name\": \"__main__\", \"asctime\": \"2025-02-13 21:58:12\", \"levelname\": \"INFO\", \"filename\": \"<ipython-input-25-6a60bf4efb16>\", \"funcName\": \"discover_flow_in_chat\", \"threadName\": \"Thread-27 (workflow_labeler_worker)\", \"status\": \"INFO\"}\n",
      "{\"message\": \"Discovering Agent flow in chat 0ae9aff6-6d8e-4b33-a6d6-7a00ec2fc127\", \"name\": \"__main__\", \"asctime\": \"2025-02-13 21:58:12\", \"levelname\": \"INFO\", \"filename\": \"<ipython-input-25-6a60bf4efb16>\", \"funcName\": \"discover_flow_in_chat\", \"threadName\": \"Thread-23 (workflow_labeler_worker)\", \"status\": \"INFO\"}\n",
      "{\"message\": \"Discovering Agent flow in chat 0af2e7bb-26f5-4a75-be88-dc88b746e6ef\", \"name\": \"__main__\", \"asctime\": \"2025-02-13 21:58:12\", \"levelname\": \"INFO\", \"filename\": \"<ipython-input-25-6a60bf4efb16>\", \"funcName\": \"discover_flow_in_chat\", \"threadName\": \"Thread-20 (workflow_labeler_worker)\", \"status\": \"INFO\"}\n",
      "{\"message\": \"Discovering Agent flow in chat 0b22fecc-3c24-41ca-9caf-5f5f00fae290\", \"name\": \"__main__\", \"asctime\": \"2025-02-13 21:58:12\", \"levelname\": \"INFO\", \"filename\": \"<ipython-input-25-6a60bf4efb16>\", \"funcName\": \"discover_flow_in_chat\", \"threadName\": \"Thread-19 (workflow_labeler_worker)\", \"status\": \"INFO\"}\n",
      "{\"message\": \"Discovering Agent flow in chat 0b2471f0-4592-4199-9dfa-3fdd7e793cab\", \"name\": \"__main__\", \"asctime\": \"2025-02-13 21:58:13\", \"levelname\": \"INFO\", \"filename\": \"<ipython-input-25-6a60bf4efb16>\", \"funcName\": \"discover_flow_in_chat\", \"threadName\": \"Thread-25 (workflow_labeler_worker)\", \"status\": \"INFO\"}\n",
      "{\"message\": \"Discovering Agent flow in chat 0b3bf4ab-0c5a-41ac-958a-968d20a93308\", \"name\": \"__main__\", \"asctime\": \"2025-02-13 21:58:13\", \"levelname\": \"INFO\", \"filename\": \"<ipython-input-25-6a60bf4efb16>\", \"funcName\": \"discover_flow_in_chat\", \"threadName\": \"Thread-21 (workflow_labeler_worker)\", \"status\": \"INFO\"}\n",
      "{\"message\": \"Discovering Agent flow in chat 0b3d50d9-ac9a-4d36-8296-264ddc5244e7\", \"name\": \"__main__\", \"asctime\": \"2025-02-13 21:58:14\", \"levelname\": \"INFO\", \"filename\": \"<ipython-input-25-6a60bf4efb16>\", \"funcName\": \"discover_flow_in_chat\", \"threadName\": \"Thread-26 (workflow_labeler_worker)\", \"status\": \"INFO\"}\n",
      "{\"message\": \"Discovering Agent flow in chat 0b43df94-92e9-47dd-9662-69ee9e71eaa0\", \"name\": \"__main__\", \"asctime\": \"2025-02-13 21:58:14\", \"levelname\": \"INFO\", \"filename\": \"<ipython-input-25-6a60bf4efb16>\", \"funcName\": \"discover_flow_in_chat\", \"threadName\": \"Thread-19 (workflow_labeler_worker)\", \"status\": \"INFO\"}\n",
      "{\"message\": \"Discovering Agent flow in chat 0b597f44-f2b8-48fa-b2d0-3ec09df0da23\", \"name\": \"__main__\", \"asctime\": \"2025-02-13 21:58:14\", \"levelname\": \"INFO\", \"filename\": \"<ipython-input-25-6a60bf4efb16>\", \"funcName\": \"discover_flow_in_chat\", \"threadName\": \"Thread-28 (workflow_labeler_worker)\", \"status\": \"INFO\"}\n"
     ]
    },
    {
     "name": "stdout",
     "output_type": "stream",
     "text": [
      "Workflows from 70 chats extracted!\n"
     ]
    },
    {
     "name": "stderr",
     "output_type": "stream",
     "text": [
      "{\"message\": \"Discovering Agent flow in chat 0b5d1101-12bd-4e85-8882-ab0ee9726e60\", \"name\": \"__main__\", \"asctime\": \"2025-02-13 21:58:14\", \"levelname\": \"INFO\", \"filename\": \"<ipython-input-25-6a60bf4efb16>\", \"funcName\": \"discover_flow_in_chat\", \"threadName\": \"Thread-27 (workflow_labeler_worker)\", \"status\": \"INFO\"}\n",
      "{\"message\": \"Discovering Agent flow in chat 0becb6e2-b21d-4f97-93c0-e41ffaa77222\", \"name\": \"__main__\", \"asctime\": \"2025-02-13 21:58:14\", \"levelname\": \"INFO\", \"filename\": \"<ipython-input-25-6a60bf4efb16>\", \"funcName\": \"discover_flow_in_chat\", \"threadName\": \"Thread-24 (workflow_labeler_worker)\", \"status\": \"INFO\"}\n",
      "{\"message\": \"Discovering Agent flow in chat 0c176c4f-2e3a-40c7-80cc-33d19ff95336\", \"name\": \"__main__\", \"asctime\": \"2025-02-13 21:58:15\", \"levelname\": \"INFO\", \"filename\": \"<ipython-input-25-6a60bf4efb16>\", \"funcName\": \"discover_flow_in_chat\", \"threadName\": \"Thread-25 (workflow_labeler_worker)\", \"status\": \"INFO\"}\n",
      "{\"message\": \"Discovering Agent flow in chat 0c1907e0-1e99-4a7d-8df3-1a43f22adb5c\", \"name\": \"__main__\", \"asctime\": \"2025-02-13 21:58:15\", \"levelname\": \"INFO\", \"filename\": \"<ipython-input-25-6a60bf4efb16>\", \"funcName\": \"discover_flow_in_chat\", \"threadName\": \"Thread-20 (workflow_labeler_worker)\", \"status\": \"INFO\"}\n",
      "{\"message\": \"Discovering Agent flow in chat 0c974b1c-fb87-4225-83e5-d0817d606bfb\", \"name\": \"__main__\", \"asctime\": \"2025-02-13 21:58:15\", \"levelname\": \"INFO\", \"filename\": \"<ipython-input-25-6a60bf4efb16>\", \"funcName\": \"discover_flow_in_chat\", \"threadName\": \"Thread-22 (workflow_labeler_worker)\", \"status\": \"INFO\"}\n",
      "{\"message\": \"Discovering Agent flow in chat 0cd7e2c8-8bc9-4126-83a8-09b170036f5d\", \"name\": \"__main__\", \"asctime\": \"2025-02-13 21:58:15\", \"levelname\": \"INFO\", \"filename\": \"<ipython-input-25-6a60bf4efb16>\", \"funcName\": \"discover_flow_in_chat\", \"threadName\": \"Thread-21 (workflow_labeler_worker)\", \"status\": \"INFO\"}\n",
      "{\"message\": \"Discovering Agent flow in chat 0cd80574-98f5-4e3c-8934-e8e63f70e1f5\", \"name\": \"__main__\", \"asctime\": \"2025-02-13 21:58:15\", \"levelname\": \"INFO\", \"filename\": \"<ipython-input-25-6a60bf4efb16>\", \"funcName\": \"discover_flow_in_chat\", \"threadName\": \"Thread-26 (workflow_labeler_worker)\", \"status\": \"INFO\"}\n",
      "{\"message\": \"Discovering Agent flow in chat 0cff0da4-fdaa-4228-bd4d-ef58447eec0f\", \"name\": \"__main__\", \"asctime\": \"2025-02-13 21:58:16\", \"levelname\": \"INFO\", \"filename\": \"<ipython-input-25-6a60bf4efb16>\", \"funcName\": \"discover_flow_in_chat\", \"threadName\": \"Thread-21 (workflow_labeler_worker)\", \"status\": \"INFO\"}\n"
     ]
    },
    {
     "name": "stdout",
     "output_type": "stream",
     "text": [
      "Workflows from 80 chats extracted!\n"
     ]
    },
    {
     "name": "stderr",
     "output_type": "stream",
     "text": [
      "{\"message\": \"Discovering Agent flow in chat 0d143a65-8721-48f5-bb61-cc82ab8d85e4\", \"name\": \"__main__\", \"asctime\": \"2025-02-13 21:58:16\", \"levelname\": \"INFO\", \"filename\": \"<ipython-input-25-6a60bf4efb16>\", \"funcName\": \"discover_flow_in_chat\", \"threadName\": \"Thread-19 (workflow_labeler_worker)\", \"status\": \"INFO\"}\n",
      "{\"message\": \"Discovering Agent flow in chat 0d2acb25-43d6-4981-8b75-4f80a2e7f4c3\", \"name\": \"__main__\", \"asctime\": \"2025-02-13 21:58:16\", \"levelname\": \"INFO\", \"filename\": \"<ipython-input-25-6a60bf4efb16>\", \"funcName\": \"discover_flow_in_chat\", \"threadName\": \"Thread-24 (workflow_labeler_worker)\", \"status\": \"INFO\"}\n",
      "{\"message\": \"Discovering Agent flow in chat 0d2dfdb2-3f23-4b28-ad9f-a6d2ef4aeb36\", \"name\": \"__main__\", \"asctime\": \"2025-02-13 21:58:17\", \"levelname\": \"INFO\", \"filename\": \"<ipython-input-25-6a60bf4efb16>\", \"funcName\": \"discover_flow_in_chat\", \"threadName\": \"Thread-28 (workflow_labeler_worker)\", \"status\": \"INFO\"}\n",
      "{\"message\": \"Discovering Agent flow in chat 0d48ae17-2d7b-4fd7-af7f-d0bd1a9c7862\", \"name\": \"__main__\", \"asctime\": \"2025-02-13 21:58:17\", \"levelname\": \"INFO\", \"filename\": \"<ipython-input-25-6a60bf4efb16>\", \"funcName\": \"discover_flow_in_chat\", \"threadName\": \"Thread-21 (workflow_labeler_worker)\", \"status\": \"INFO\"}\n",
      "{\"message\": \"Discovering Agent flow in chat 0d672918-d9d1-493b-9bdf-a0d2a9e25c58\", \"name\": \"__main__\", \"asctime\": \"2025-02-13 21:58:17\", \"levelname\": \"INFO\", \"filename\": \"<ipython-input-25-6a60bf4efb16>\", \"funcName\": \"discover_flow_in_chat\", \"threadName\": \"Thread-27 (workflow_labeler_worker)\", \"status\": \"INFO\"}\n",
      "{\"message\": \"Discovering Agent flow in chat 0d6b03c2-0b69-4355-b8bc-f7a300c5f61e\", \"name\": \"__main__\", \"asctime\": \"2025-02-13 21:58:17\", \"levelname\": \"INFO\", \"filename\": \"<ipython-input-25-6a60bf4efb16>\", \"funcName\": \"discover_flow_in_chat\", \"threadName\": \"Thread-25 (workflow_labeler_worker)\", \"status\": \"INFO\"}\n",
      "{\"message\": \"Discovering Agent flow in chat 0dc379d1-aa17-4ea8-b75b-3e2fff621e64\", \"name\": \"__main__\", \"asctime\": \"2025-02-13 21:58:18\", \"levelname\": \"INFO\", \"filename\": \"<ipython-input-25-6a60bf4efb16>\", \"funcName\": \"discover_flow_in_chat\", \"threadName\": \"Thread-26 (workflow_labeler_worker)\", \"status\": \"INFO\"}\n",
      "{\"message\": \"Discovering Agent flow in chat 0df11fa3-2777-4c41-9d0f-9dcfd234033c\", \"name\": \"__main__\", \"asctime\": \"2025-02-13 21:58:18\", \"levelname\": \"INFO\", \"filename\": \"<ipython-input-25-6a60bf4efb16>\", \"funcName\": \"discover_flow_in_chat\", \"threadName\": \"Thread-23 (workflow_labeler_worker)\", \"status\": \"INFO\"}\n",
      "{\"message\": \"Discovering Agent flow in chat 0e194813-ab79-416e-b7e2-35719d994946\", \"name\": \"__main__\", \"asctime\": \"2025-02-13 21:58:18\", \"levelname\": \"INFO\", \"filename\": \"<ipython-input-25-6a60bf4efb16>\", \"funcName\": \"discover_flow_in_chat\", \"threadName\": \"Thread-22 (workflow_labeler_worker)\", \"status\": \"INFO\"}\n",
      "{\"message\": \"Discovering Agent flow in chat 0e3abcb5-3d5f-447d-9efd-c0c4ed2fdf77\", \"name\": \"__main__\", \"asctime\": \"2025-02-13 21:58:18\", \"levelname\": \"INFO\", \"filename\": \"<ipython-input-25-6a60bf4efb16>\", \"funcName\": \"discover_flow_in_chat\", \"threadName\": \"Thread-19 (workflow_labeler_worker)\", \"status\": \"INFO\"}\n"
     ]
    },
    {
     "name": "stdout",
     "output_type": "stream",
     "text": [
      "Workflows from 90 chats extracted!\n"
     ]
    },
    {
     "name": "stderr",
     "output_type": "stream",
     "text": [
      "{\"message\": \"Discovering Agent flow in chat 0e3c8794-f10b-4b90-ae0e-0f963f428790\", \"name\": \"__main__\", \"asctime\": \"2025-02-13 21:58:19\", \"levelname\": \"INFO\", \"filename\": \"<ipython-input-25-6a60bf4efb16>\", \"funcName\": \"discover_flow_in_chat\", \"threadName\": \"Thread-20 (workflow_labeler_worker)\", \"status\": \"INFO\"}\n",
      "{\"message\": \"Discovering Agent flow in chat 0e3e206d-4abc-47a8-b7f7-fffd5603a90f\", \"name\": \"__main__\", \"asctime\": \"2025-02-13 21:58:19\", \"levelname\": \"INFO\", \"filename\": \"<ipython-input-25-6a60bf4efb16>\", \"funcName\": \"discover_flow_in_chat\", \"threadName\": \"Thread-21 (workflow_labeler_worker)\", \"status\": \"INFO\"}\n",
      "{\"message\": \"Discovering Agent flow in chat 0e536744-ac0c-4712-bb80-7183fb5d1c56\", \"name\": \"__main__\", \"asctime\": \"2025-02-13 21:58:19\", \"levelname\": \"INFO\", \"filename\": \"<ipython-input-25-6a60bf4efb16>\", \"funcName\": \"discover_flow_in_chat\", \"threadName\": \"Thread-27 (workflow_labeler_worker)\", \"status\": \"INFO\"}\n",
      "{\"message\": \"Discovering Agent flow in chat 0e759e20-116c-4593-8fc9-014823054a19\", \"name\": \"__main__\", \"asctime\": \"2025-02-13 21:58:19\", \"levelname\": \"INFO\", \"filename\": \"<ipython-input-25-6a60bf4efb16>\", \"funcName\": \"discover_flow_in_chat\", \"threadName\": \"Thread-28 (workflow_labeler_worker)\", \"status\": \"INFO\"}\n",
      "{\"message\": \"Discovering Agent flow in chat 0ea69da1-e113-49b5-ad7b-365e5c70180f\", \"name\": \"__main__\", \"asctime\": \"2025-02-13 21:58:19\", \"levelname\": \"INFO\", \"filename\": \"<ipython-input-25-6a60bf4efb16>\", \"funcName\": \"discover_flow_in_chat\", \"threadName\": \"Thread-26 (workflow_labeler_worker)\", \"status\": \"INFO\"}\n",
      "{\"message\": \"Discovering Agent flow in chat 0ed0de66-890e-4791-aa7b-14616f115989\", \"name\": \"__main__\", \"asctime\": \"2025-02-13 21:58:20\", \"levelname\": \"INFO\", \"filename\": \"<ipython-input-25-6a60bf4efb16>\", \"funcName\": \"discover_flow_in_chat\", \"threadName\": \"Thread-25 (workflow_labeler_worker)\", \"status\": \"INFO\"}\n",
      "{\"message\": \"Discovering Agent flow in chat 0edb994f-9869-42b9-aad6-206876ddc074\", \"name\": \"__main__\", \"asctime\": \"2025-02-13 21:58:20\", \"levelname\": \"INFO\", \"filename\": \"<ipython-input-25-6a60bf4efb16>\", \"funcName\": \"discover_flow_in_chat\", \"threadName\": \"Thread-19 (workflow_labeler_worker)\", \"status\": \"INFO\"}\n",
      "{\"message\": \"Discovering Agent flow in chat 0ef9189e-2f5a-4d40-827e-d1d92d84c07f\", \"name\": \"__main__\", \"asctime\": \"2025-02-13 21:58:20\", \"levelname\": \"INFO\", \"filename\": \"<ipython-input-25-6a60bf4efb16>\", \"funcName\": \"discover_flow_in_chat\", \"threadName\": \"Thread-24 (workflow_labeler_worker)\", \"status\": \"INFO\"}\n",
      "{\"message\": \"Discovering Agent flow in chat 0f194352-4a0b-4d28-976a-1de49922fe53\", \"name\": \"__main__\", \"asctime\": \"2025-02-13 21:58:20\", \"levelname\": \"INFO\", \"filename\": \"<ipython-input-25-6a60bf4efb16>\", \"funcName\": \"discover_flow_in_chat\", \"threadName\": \"Thread-21 (workflow_labeler_worker)\", \"status\": \"INFO\"}\n",
      "{\"message\": \"Discovering Agent flow in chat 0f24a5c5-bddf-4506-a300-6b1c3a24a360\", \"name\": \"__main__\", \"asctime\": \"2025-02-13 21:58:20\", \"levelname\": \"INFO\", \"filename\": \"<ipython-input-25-6a60bf4efb16>\", \"funcName\": \"discover_flow_in_chat\", \"threadName\": \"Thread-20 (workflow_labeler_worker)\", \"status\": \"INFO\"}\n"
     ]
    },
    {
     "name": "stdout",
     "output_type": "stream",
     "text": [
      "Workflows from 100 chats extracted!\n"
     ]
    },
    {
     "name": "stderr",
     "output_type": "stream",
     "text": [
      "{\"message\": \"Discovering Agent flow in chat 0f311baa-f57d-4034-ab10-f18d0c39ea7e\", \"name\": \"__main__\", \"asctime\": \"2025-02-13 21:58:21\", \"levelname\": \"INFO\", \"filename\": \"<ipython-input-25-6a60bf4efb16>\", \"funcName\": \"discover_flow_in_chat\", \"threadName\": \"Thread-26 (workflow_labeler_worker)\", \"status\": \"INFO\"}\n",
      "{\"message\": \"Discovering Agent flow in chat 0f343b4f-8a53-47a8-a259-85dc4f7e4fbc\", \"name\": \"__main__\", \"asctime\": \"2025-02-13 21:58:21\", \"levelname\": \"INFO\", \"filename\": \"<ipython-input-25-6a60bf4efb16>\", \"funcName\": \"discover_flow_in_chat\", \"threadName\": \"Thread-23 (workflow_labeler_worker)\", \"status\": \"INFO\"}\n",
      "{\"message\": \"Discovering Agent flow in chat 0f3db87a-0d0c-4622-8d4b-8d8bd98ecc4d\", \"name\": \"__main__\", \"asctime\": \"2025-02-13 21:58:21\", \"levelname\": \"INFO\", \"filename\": \"<ipython-input-25-6a60bf4efb16>\", \"funcName\": \"discover_flow_in_chat\", \"threadName\": \"Thread-28 (workflow_labeler_worker)\", \"status\": \"INFO\"}\n",
      "{\"message\": \"Discovering Agent flow in chat 0f71b41f-b45b-4a9d-864c-f5c1cf1866a9\", \"name\": \"__main__\", \"asctime\": \"2025-02-13 21:58:22\", \"levelname\": \"INFO\", \"filename\": \"<ipython-input-25-6a60bf4efb16>\", \"funcName\": \"discover_flow_in_chat\", \"threadName\": \"Thread-20 (workflow_labeler_worker)\", \"status\": \"INFO\"}\n",
      "{\"message\": \"Discovering Agent flow in chat 0f8c2926-47a4-4dd5-88d1-3fd0d2208c25\", \"name\": \"__main__\", \"asctime\": \"2025-02-13 21:58:22\", \"levelname\": \"INFO\", \"filename\": \"<ipython-input-25-6a60bf4efb16>\", \"funcName\": \"discover_flow_in_chat\", \"threadName\": \"Thread-22 (workflow_labeler_worker)\", \"status\": \"INFO\"}\n",
      "{\"message\": \"Discovering Agent flow in chat 0f8e5e27-0977-47e0-8679-ae1204669733\", \"name\": \"__main__\", \"asctime\": \"2025-02-13 21:58:23\", \"levelname\": \"INFO\", \"filename\": \"<ipython-input-25-6a60bf4efb16>\", \"funcName\": \"discover_flow_in_chat\", \"threadName\": \"Thread-23 (workflow_labeler_worker)\", \"status\": \"INFO\"}\n",
      "{\"message\": \"Discovering Agent flow in chat 0f9921ae-f6c9-4aa2-8ee8-1f1f286a20f5\", \"name\": \"__main__\", \"asctime\": \"2025-02-13 21:58:23\", \"levelname\": \"INFO\", \"filename\": \"<ipython-input-25-6a60bf4efb16>\", \"funcName\": \"discover_flow_in_chat\", \"threadName\": \"Thread-21 (workflow_labeler_worker)\", \"status\": \"INFO\"}\n",
      "{\"message\": \"Discovering Agent flow in chat 0fb34091-75a1-4649-9309-acdf0cd24f07\", \"name\": \"__main__\", \"asctime\": \"2025-02-13 21:58:23\", \"levelname\": \"INFO\", \"filename\": \"<ipython-input-25-6a60bf4efb16>\", \"funcName\": \"discover_flow_in_chat\", \"threadName\": \"Thread-20 (workflow_labeler_worker)\", \"status\": \"INFO\"}\n",
      "{\"message\": \"Discovering Agent flow in chat 0fc6a990-6bdf-4616-8ae3-67dd86308457\", \"name\": \"__main__\", \"asctime\": \"2025-02-13 21:58:23\", \"levelname\": \"INFO\", \"filename\": \"<ipython-input-25-6a60bf4efb16>\", \"funcName\": \"discover_flow_in_chat\", \"threadName\": \"Thread-26 (workflow_labeler_worker)\", \"status\": \"INFO\"}\n",
      "{\"message\": \"Discovering Agent flow in chat 0fd055f5-68ff-4439-9401-fe00607ac417\", \"name\": \"__main__\", \"asctime\": \"2025-02-13 21:58:23\", \"levelname\": \"INFO\", \"filename\": \"<ipython-input-25-6a60bf4efb16>\", \"funcName\": \"discover_flow_in_chat\", \"threadName\": \"Thread-24 (workflow_labeler_worker)\", \"status\": \"INFO\"}\n",
      "{\"message\": \"Discovering Agent flow in chat 0fe55e1f-eb48-4ada-800d-906f043c1a45\", \"name\": \"__main__\", \"asctime\": \"2025-02-13 21:58:23\", \"levelname\": \"INFO\", \"filename\": \"<ipython-input-25-6a60bf4efb16>\", \"funcName\": \"discover_flow_in_chat\", \"threadName\": \"Thread-27 (workflow_labeler_worker)\", \"status\": \"INFO\"}\n"
     ]
    },
    {
     "name": "stdout",
     "output_type": "stream",
     "text": [
      "Workflows from 110 chats extracted!\n"
     ]
    },
    {
     "name": "stderr",
     "output_type": "stream",
     "text": [
      "{\"message\": \"Discovering Agent flow in chat 0feba987-84d7-4c44-8a55-8ae2f8ae144c\", \"name\": \"__main__\", \"asctime\": \"2025-02-13 21:58:24\", \"levelname\": \"INFO\", \"filename\": \"<ipython-input-25-6a60bf4efb16>\", \"funcName\": \"discover_flow_in_chat\", \"threadName\": \"Thread-25 (workflow_labeler_worker)\", \"status\": \"INFO\"}\n",
      "{\"message\": \"Discovering Agent flow in chat 101c2671-b555-4353-8b81-4905ea10ba04\", \"name\": \"__main__\", \"asctime\": \"2025-02-13 21:58:24\", \"levelname\": \"INFO\", \"filename\": \"<ipython-input-25-6a60bf4efb16>\", \"funcName\": \"discover_flow_in_chat\", \"threadName\": \"Thread-22 (workflow_labeler_worker)\", \"status\": \"INFO\"}\n",
      "{\"message\": \"Discovering Agent flow in chat 102afab8-8e7f-476c-a496-63abf2f5f092\", \"name\": \"__main__\", \"asctime\": \"2025-02-13 21:58:24\", \"levelname\": \"INFO\", \"filename\": \"<ipython-input-25-6a60bf4efb16>\", \"funcName\": \"discover_flow_in_chat\", \"threadName\": \"Thread-28 (workflow_labeler_worker)\", \"status\": \"INFO\"}\n",
      "{\"message\": \"Discovering Agent flow in chat 1067f3fc-5df6-42db-8599-cbeb1b3c4ec3\", \"name\": \"__main__\", \"asctime\": \"2025-02-13 21:58:25\", \"levelname\": \"INFO\", \"filename\": \"<ipython-input-25-6a60bf4efb16>\", \"funcName\": \"discover_flow_in_chat\", \"threadName\": \"Thread-25 (workflow_labeler_worker)\", \"status\": \"INFO\"}\n",
      "{\"message\": \"Discovering Agent flow in chat 1075bcdc-d1f2-4bf7-9aff-e0b0bb1114e3\", \"name\": \"__main__\", \"asctime\": \"2025-02-13 21:58:25\", \"levelname\": \"INFO\", \"filename\": \"<ipython-input-25-6a60bf4efb16>\", \"funcName\": \"discover_flow_in_chat\", \"threadName\": \"Thread-27 (workflow_labeler_worker)\", \"status\": \"INFO\"}\n",
      "{\"message\": \"Discovering Agent flow in chat 11296798-b0b9-42c4-a793-15ae16173e78\", \"name\": \"__main__\", \"asctime\": \"2025-02-13 21:58:26\", \"levelname\": \"INFO\", \"filename\": \"<ipython-input-25-6a60bf4efb16>\", \"funcName\": \"discover_flow_in_chat\", \"threadName\": \"Thread-20 (workflow_labeler_worker)\", \"status\": \"INFO\"}\n",
      "{\"message\": \"Discovering Agent flow in chat 11393053-f6dc-4475-980f-afceb7ae81f8\", \"name\": \"__main__\", \"asctime\": \"2025-02-13 21:58:26\", \"levelname\": \"INFO\", \"filename\": \"<ipython-input-25-6a60bf4efb16>\", \"funcName\": \"discover_flow_in_chat\", \"threadName\": \"Thread-21 (workflow_labeler_worker)\", \"status\": \"INFO\"}\n",
      "{\"message\": \"Discovering Agent flow in chat 11838848-203b-4129-b6fc-57a11c8136dc\", \"name\": \"__main__\", \"asctime\": \"2025-02-13 21:58:26\", \"levelname\": \"INFO\", \"filename\": \"<ipython-input-25-6a60bf4efb16>\", \"funcName\": \"discover_flow_in_chat\", \"threadName\": \"Thread-26 (workflow_labeler_worker)\", \"status\": \"INFO\"}\n",
      "{\"message\": \"Discovering Agent flow in chat 118c95cb-bd29-4fc0-a887-f60a7923162f\", \"name\": \"__main__\", \"asctime\": \"2025-02-13 21:58:26\", \"levelname\": \"INFO\", \"filename\": \"<ipython-input-25-6a60bf4efb16>\", \"funcName\": \"discover_flow_in_chat\", \"threadName\": \"Thread-27 (workflow_labeler_worker)\", \"status\": \"INFO\"}\n"
     ]
    },
    {
     "name": "stdout",
     "output_type": "stream",
     "text": [
      "Workflows from 120 chats extracted!\n"
     ]
    },
    {
     "name": "stderr",
     "output_type": "stream",
     "text": [
      "{\"message\": \"Discovering Agent flow in chat 118edf23-2285-4dc5-8f63-5d8bf2e1bab1\", \"name\": \"__main__\", \"asctime\": \"2025-02-13 21:58:27\", \"levelname\": \"INFO\", \"filename\": \"<ipython-input-25-6a60bf4efb16>\", \"funcName\": \"discover_flow_in_chat\", \"threadName\": \"Thread-23 (workflow_labeler_worker)\", \"status\": \"INFO\"}\n",
      "{\"message\": \"Discovering Agent flow in chat 11de0e64-d791-408d-97e1-57940f9c80e1\", \"name\": \"__main__\", \"asctime\": \"2025-02-13 21:58:27\", \"levelname\": \"INFO\", \"filename\": \"<ipython-input-25-6a60bf4efb16>\", \"funcName\": \"discover_flow_in_chat\", \"threadName\": \"Thread-22 (workflow_labeler_worker)\", \"status\": \"INFO\"}\n",
      "{\"message\": \"Discovering Agent flow in chat 11e32ae8-5a81-4497-a1d5-2ef8acf2f581\", \"name\": \"__main__\", \"asctime\": \"2025-02-13 21:58:27\", \"levelname\": \"INFO\", \"filename\": \"<ipython-input-25-6a60bf4efb16>\", \"funcName\": \"discover_flow_in_chat\", \"threadName\": \"Thread-24 (workflow_labeler_worker)\", \"status\": \"INFO\"}\n",
      "{\"message\": \"Discovering Agent flow in chat 1203f20d-139f-43e5-a1da-28d40ae787b6\", \"name\": \"__main__\", \"asctime\": \"2025-02-13 21:58:27\", \"levelname\": \"INFO\", \"filename\": \"<ipython-input-25-6a60bf4efb16>\", \"funcName\": \"discover_flow_in_chat\", \"threadName\": \"Thread-19 (workflow_labeler_worker)\", \"status\": \"INFO\"}\n",
      "{\"message\": \"Discovering Agent flow in chat 122cea1b-7c5b-4bc4-994d-03c045ea643a\", \"name\": \"__main__\", \"asctime\": \"2025-02-13 21:58:27\", \"levelname\": \"INFO\", \"filename\": \"<ipython-input-25-6a60bf4efb16>\", \"funcName\": \"discover_flow_in_chat\", \"threadName\": \"Thread-28 (workflow_labeler_worker)\", \"status\": \"INFO\"}\n",
      "{\"message\": \"Discovering Agent flow in chat 123b17b6-3db6-4478-aa8a-afaf5a180a13\", \"name\": \"__main__\", \"asctime\": \"2025-02-13 21:58:28\", \"levelname\": \"INFO\", \"filename\": \"<ipython-input-25-6a60bf4efb16>\", \"funcName\": \"discover_flow_in_chat\", \"threadName\": \"Thread-27 (workflow_labeler_worker)\", \"status\": \"INFO\"}\n",
      "{\"message\": \"Discovering Agent flow in chat 123fae9f-d4cd-4ab3-b4cb-8d05df3cd4e0\", \"name\": \"__main__\", \"asctime\": \"2025-02-13 21:58:28\", \"levelname\": \"INFO\", \"filename\": \"<ipython-input-25-6a60bf4efb16>\", \"funcName\": \"discover_flow_in_chat\", \"threadName\": \"Thread-23 (workflow_labeler_worker)\", \"status\": \"INFO\"}\n",
      "{\"message\": \"Discovering Agent flow in chat 12c0e2fa-e4b5-4df2-b7d1-f27e8909490e\", \"name\": \"__main__\", \"asctime\": \"2025-02-13 21:58:28\", \"levelname\": \"INFO\", \"filename\": \"<ipython-input-25-6a60bf4efb16>\", \"funcName\": \"discover_flow_in_chat\", \"threadName\": \"Thread-23 (workflow_labeler_worker)\", \"status\": \"INFO\"}\n",
      "{\"message\": \"Discovering Agent flow in chat 12cd738a-f1f5-43b8-9d05-df5fc96ca88a\", \"name\": \"__main__\", \"asctime\": \"2025-02-13 21:58:29\", \"levelname\": \"INFO\", \"filename\": \"<ipython-input-25-6a60bf4efb16>\", \"funcName\": \"discover_flow_in_chat\", \"threadName\": \"Thread-22 (workflow_labeler_worker)\", \"status\": \"INFO\"}\n",
      "{\"message\": \"Discovering Agent flow in chat 12d6e07c-0d4d-46e1-a833-bc62ed33928f\", \"name\": \"__main__\", \"asctime\": \"2025-02-13 21:58:29\", \"levelname\": \"INFO\", \"filename\": \"<ipython-input-25-6a60bf4efb16>\", \"funcName\": \"discover_flow_in_chat\", \"threadName\": \"Thread-28 (workflow_labeler_worker)\", \"status\": \"INFO\"}\n",
      "{\"message\": \"Discovering Agent flow in chat 136070f2-1483-4c2c-a8f4-a6faea8c8a5d\", \"name\": \"__main__\", \"asctime\": \"2025-02-13 21:58:29\", \"levelname\": \"INFO\", \"filename\": \"<ipython-input-25-6a60bf4efb16>\", \"funcName\": \"discover_flow_in_chat\", \"threadName\": \"Thread-21 (workflow_labeler_worker)\", \"status\": \"INFO\"}\n",
      "{\"message\": \"Discovering Agent flow in chat 13620721-4f5d-4cee-8973-bcbaec2654a3\", \"name\": \"__main__\", \"asctime\": \"2025-02-13 21:58:29\", \"levelname\": \"INFO\", \"filename\": \"<ipython-input-25-6a60bf4efb16>\", \"funcName\": \"discover_flow_in_chat\", \"threadName\": \"Thread-25 (workflow_labeler_worker)\", \"status\": \"INFO\"}\n"
     ]
    },
    {
     "name": "stdout",
     "output_type": "stream",
     "text": [
      "Workflows from 130 chats extracted!\n"
     ]
    },
    {
     "name": "stderr",
     "output_type": "stream",
     "text": [
      "{\"message\": \"Discovering Agent flow in chat 136bdd10-1b56-4e84-8787-4bd2b54572ad\", \"name\": \"__main__\", \"asctime\": \"2025-02-13 21:58:29\", \"levelname\": \"INFO\", \"filename\": \"<ipython-input-25-6a60bf4efb16>\", \"funcName\": \"discover_flow_in_chat\", \"threadName\": \"Thread-26 (workflow_labeler_worker)\", \"status\": \"INFO\"}\n",
      "{\"message\": \"Discovering Agent flow in chat 137b7ca8-e316-41c1-b932-1d4831564e6b\", \"name\": \"__main__\", \"asctime\": \"2025-02-13 21:58:29\", \"levelname\": \"INFO\", \"filename\": \"<ipython-input-25-6a60bf4efb16>\", \"funcName\": \"discover_flow_in_chat\", \"threadName\": \"Thread-20 (workflow_labeler_worker)\", \"status\": \"INFO\"}\n",
      "{\"message\": \"Discovering Agent flow in chat 139404a3-d45a-4d69-b0ab-7409f32ac216\", \"name\": \"__main__\", \"asctime\": \"2025-02-13 21:58:29\", \"levelname\": \"INFO\", \"filename\": \"<ipython-input-25-6a60bf4efb16>\", \"funcName\": \"discover_flow_in_chat\", \"threadName\": \"Thread-23 (workflow_labeler_worker)\", \"status\": \"INFO\"}\n",
      "{\"message\": \"Discovering Agent flow in chat 13960ccc-3adc-449e-b1ce-9887aef65134\", \"name\": \"__main__\", \"asctime\": \"2025-02-13 21:58:30\", \"levelname\": \"INFO\", \"filename\": \"<ipython-input-25-6a60bf4efb16>\", \"funcName\": \"discover_flow_in_chat\", \"threadName\": \"Thread-22 (workflow_labeler_worker)\", \"status\": \"INFO\"}\n",
      "{\"message\": \"Discovering Agent flow in chat 13b90434-395e-4b55-83cb-a08527ed0070\", \"name\": \"__main__\", \"asctime\": \"2025-02-13 21:58:30\", \"levelname\": \"INFO\", \"filename\": \"<ipython-input-25-6a60bf4efb16>\", \"funcName\": \"discover_flow_in_chat\", \"threadName\": \"Thread-27 (workflow_labeler_worker)\", \"status\": \"INFO\"}\n",
      "{\"message\": \"Discovering Agent flow in chat 13d42686-957d-42a3-ac29-2ef2ea494214\", \"name\": \"__main__\", \"asctime\": \"2025-02-13 21:58:30\", \"levelname\": \"INFO\", \"filename\": \"<ipython-input-25-6a60bf4efb16>\", \"funcName\": \"discover_flow_in_chat\", \"threadName\": \"Thread-28 (workflow_labeler_worker)\", \"status\": \"INFO\"}\n",
      "{\"message\": \"Discovering Agent flow in chat 13eb6026-67ed-41cf-a50c-77f18507b114\", \"name\": \"__main__\", \"asctime\": \"2025-02-13 21:58:31\", \"levelname\": \"INFO\", \"filename\": \"<ipython-input-25-6a60bf4efb16>\", \"funcName\": \"discover_flow_in_chat\", \"threadName\": \"Thread-24 (workflow_labeler_worker)\", \"status\": \"INFO\"}\n",
      "{\"message\": \"Discovering Agent flow in chat 140a48b3-37c6-42f3-93fe-0ed3b96fe325\", \"name\": \"__main__\", \"asctime\": \"2025-02-13 21:58:31\", \"levelname\": \"INFO\", \"filename\": \"<ipython-input-25-6a60bf4efb16>\", \"funcName\": \"discover_flow_in_chat\", \"threadName\": \"Thread-27 (workflow_labeler_worker)\", \"status\": \"INFO\"}\n",
      "{\"message\": \"Discovering Agent flow in chat 14102315-6189-4a15-94c2-3ee33be3dba6\", \"name\": \"__main__\", \"asctime\": \"2025-02-13 21:58:31\", \"levelname\": \"INFO\", \"filename\": \"<ipython-input-25-6a60bf4efb16>\", \"funcName\": \"discover_flow_in_chat\", \"threadName\": \"Thread-19 (workflow_labeler_worker)\", \"status\": \"INFO\"}\n"
     ]
    },
    {
     "name": "stdout",
     "output_type": "stream",
     "text": [
      "Workflows from 140 chats extracted!\n"
     ]
    },
    {
     "name": "stderr",
     "output_type": "stream",
     "text": [
      "{\"message\": \"Discovering Agent flow in chat 1449dd9d-3137-45d0-895e-300d9657e223\", \"name\": \"__main__\", \"asctime\": \"2025-02-13 21:58:31\", \"levelname\": \"INFO\", \"filename\": \"<ipython-input-25-6a60bf4efb16>\", \"funcName\": \"discover_flow_in_chat\", \"threadName\": \"Thread-23 (workflow_labeler_worker)\", \"status\": \"INFO\"}\n",
      "{\"message\": \"Discovering Agent flow in chat 14535af2-554b-4d0a-9aed-562c37ca2f5d\", \"name\": \"__main__\", \"asctime\": \"2025-02-13 21:58:31\", \"levelname\": \"INFO\", \"filename\": \"<ipython-input-25-6a60bf4efb16>\", \"funcName\": \"discover_flow_in_chat\", \"threadName\": \"Thread-21 (workflow_labeler_worker)\", \"status\": \"INFO\"}\n",
      "{\"message\": \"Discovering Agent flow in chat 14544e26-6023-4756-b897-46555b00ee1e\", \"name\": \"__main__\", \"asctime\": \"2025-02-13 21:58:31\", \"levelname\": \"INFO\", \"filename\": \"<ipython-input-25-6a60bf4efb16>\", \"funcName\": \"discover_flow_in_chat\", \"threadName\": \"Thread-24 (workflow_labeler_worker)\", \"status\": \"INFO\"}\n",
      "{\"message\": \"Discovering Agent flow in chat 146407b6-78bd-4b6d-a71d-589a366854d4\", \"name\": \"__main__\", \"asctime\": \"2025-02-13 21:58:32\", \"levelname\": \"INFO\", \"filename\": \"<ipython-input-25-6a60bf4efb16>\", \"funcName\": \"discover_flow_in_chat\", \"threadName\": \"Thread-23 (workflow_labeler_worker)\", \"status\": \"INFO\"}\n",
      "{\"message\": \"Discovering Agent flow in chat 146cebcd-51be-4495-bda6-e0c766162138\", \"name\": \"__main__\", \"asctime\": \"2025-02-13 21:58:32\", \"levelname\": \"INFO\", \"filename\": \"<ipython-input-25-6a60bf4efb16>\", \"funcName\": \"discover_flow_in_chat\", \"threadName\": \"Thread-20 (workflow_labeler_worker)\", \"status\": \"INFO\"}\n",
      "{\"message\": \"Discovering Agent flow in chat 1487f5b3-d13f-417f-9c2a-f3c5dc0f0db9\", \"name\": \"__main__\", \"asctime\": \"2025-02-13 21:58:33\", \"levelname\": \"INFO\", \"filename\": \"<ipython-input-25-6a60bf4efb16>\", \"funcName\": \"discover_flow_in_chat\", \"threadName\": \"Thread-19 (workflow_labeler_worker)\", \"status\": \"INFO\"}\n",
      "{\"message\": \"Discovering Agent flow in chat 148ee283-7d5d-427b-b259-687aed694d58\", \"name\": \"__main__\", \"asctime\": \"2025-02-13 21:58:33\", \"levelname\": \"INFO\", \"filename\": \"<ipython-input-25-6a60bf4efb16>\", \"funcName\": \"discover_flow_in_chat\", \"threadName\": \"Thread-28 (workflow_labeler_worker)\", \"status\": \"INFO\"}\n",
      "{\"message\": \"Discovering Agent flow in chat 149f3486-1b51-4a2f-bbd4-3f7e1ffff841\", \"name\": \"__main__\", \"asctime\": \"2025-02-13 21:58:34\", \"levelname\": \"INFO\", \"filename\": \"<ipython-input-25-6a60bf4efb16>\", \"funcName\": \"discover_flow_in_chat\", \"threadName\": \"Thread-24 (workflow_labeler_worker)\", \"status\": \"INFO\"}\n",
      "{\"message\": \"Discovering Agent flow in chat 14a11478-1324-4aac-b778-85a20f3e5032\", \"name\": \"__main__\", \"asctime\": \"2025-02-13 21:58:34\", \"levelname\": \"INFO\", \"filename\": \"<ipython-input-25-6a60bf4efb16>\", \"funcName\": \"discover_flow_in_chat\", \"threadName\": \"Thread-23 (workflow_labeler_worker)\", \"status\": \"INFO\"}\n",
      "{\"message\": \"Discovering Agent flow in chat 14b4b61e-2394-4850-9698-a4a117c4380e\", \"name\": \"__main__\", \"asctime\": \"2025-02-13 21:58:34\", \"levelname\": \"INFO\", \"filename\": \"<ipython-input-25-6a60bf4efb16>\", \"funcName\": \"discover_flow_in_chat\", \"threadName\": \"Thread-25 (workflow_labeler_worker)\", \"status\": \"INFO\"}\n"
     ]
    },
    {
     "name": "stdout",
     "output_type": "stream",
     "text": [
      "Workflows from 150 chats extracted!\n"
     ]
    },
    {
     "name": "stderr",
     "output_type": "stream",
     "text": [
      "{\"message\": \"Discovering Agent flow in chat 14dab401-786b-43d6-adaa-c3c8ad5107bc\", \"name\": \"__main__\", \"asctime\": \"2025-02-13 21:58:34\", \"levelname\": \"INFO\", \"filename\": \"<ipython-input-25-6a60bf4efb16>\", \"funcName\": \"discover_flow_in_chat\", \"threadName\": \"Thread-21 (workflow_labeler_worker)\", \"status\": \"INFO\"}\n",
      "{\"message\": \"Discovering Agent flow in chat 14e47b7b-7284-49de-8f11-dbcea6e688a4\", \"name\": \"__main__\", \"asctime\": \"2025-02-13 21:58:34\", \"levelname\": \"INFO\", \"filename\": \"<ipython-input-25-6a60bf4efb16>\", \"funcName\": \"discover_flow_in_chat\", \"threadName\": \"Thread-23 (workflow_labeler_worker)\", \"status\": \"INFO\"}\n",
      "{\"message\": \"Discovering Agent flow in chat 1512e71c-00fc-455d-929d-71f191699fc2\", \"name\": \"__main__\", \"asctime\": \"2025-02-13 21:58:34\", \"levelname\": \"INFO\", \"filename\": \"<ipython-input-25-6a60bf4efb16>\", \"funcName\": \"discover_flow_in_chat\", \"threadName\": \"Thread-26 (workflow_labeler_worker)\", \"status\": \"INFO\"}\n",
      "{\"message\": \"Discovering Agent flow in chat 151380f0-10b0-48eb-9dcb-a3ffc15e463c\", \"name\": \"__main__\", \"asctime\": \"2025-02-13 21:58:34\", \"levelname\": \"INFO\", \"filename\": \"<ipython-input-25-6a60bf4efb16>\", \"funcName\": \"discover_flow_in_chat\", \"threadName\": \"Thread-20 (workflow_labeler_worker)\", \"status\": \"INFO\"}\n",
      "{\"message\": \"Discovering Agent flow in chat 152d69e1-0f65-4b97-a423-4289c83b0a3b\", \"name\": \"__main__\", \"asctime\": \"2025-02-13 21:58:35\", \"levelname\": \"INFO\", \"filename\": \"<ipython-input-25-6a60bf4efb16>\", \"funcName\": \"discover_flow_in_chat\", \"threadName\": \"Thread-21 (workflow_labeler_worker)\", \"status\": \"INFO\"}\n",
      "{\"message\": \"Discovering Agent flow in chat 15421874-717a-46cb-b7ac-8c9836bc7bdd\", \"name\": \"__main__\", \"asctime\": \"2025-02-13 21:58:35\", \"levelname\": \"INFO\", \"filename\": \"<ipython-input-25-6a60bf4efb16>\", \"funcName\": \"discover_flow_in_chat\", \"threadName\": \"Thread-25 (workflow_labeler_worker)\", \"status\": \"INFO\"}\n",
      "{\"message\": \"Discovering Agent flow in chat 1553d4a3-342b-4fdd-9e00-1ec276b4d72a\", \"name\": \"__main__\", \"asctime\": \"2025-02-13 21:58:35\", \"levelname\": \"INFO\", \"filename\": \"<ipython-input-25-6a60bf4efb16>\", \"funcName\": \"discover_flow_in_chat\", \"threadName\": \"Thread-22 (workflow_labeler_worker)\", \"status\": \"INFO\"}\n",
      "{\"message\": \"Discovering Agent flow in chat 1588ffea-1400-4f39-8b0b-4b1b5f9bb7f0\", \"name\": \"__main__\", \"asctime\": \"2025-02-13 21:58:35\", \"levelname\": \"INFO\", \"filename\": \"<ipython-input-25-6a60bf4efb16>\", \"funcName\": \"discover_flow_in_chat\", \"threadName\": \"Thread-19 (workflow_labeler_worker)\", \"status\": \"INFO\"}\n",
      "{\"message\": \"Discovering Agent flow in chat 15b97104-e54c-4afa-bda2-95526891bcdb\", \"name\": \"__main__\", \"asctime\": \"2025-02-13 21:58:35\", \"levelname\": \"INFO\", \"filename\": \"<ipython-input-25-6a60bf4efb16>\", \"funcName\": \"discover_flow_in_chat\", \"threadName\": \"Thread-28 (workflow_labeler_worker)\", \"status\": \"INFO\"}\n",
      "{\"message\": \"Discovering Agent flow in chat 15c1cfcc-08b6-4242-a5d1-afcda17df919\", \"name\": \"__main__\", \"asctime\": \"2025-02-13 21:58:36\", \"levelname\": \"INFO\", \"filename\": \"<ipython-input-25-6a60bf4efb16>\", \"funcName\": \"discover_flow_in_chat\", \"threadName\": \"Thread-25 (workflow_labeler_worker)\", \"status\": \"INFO\"}\n"
     ]
    },
    {
     "name": "stdout",
     "output_type": "stream",
     "text": [
      "Workflows from 160 chats extracted!\n"
     ]
    },
    {
     "name": "stderr",
     "output_type": "stream",
     "text": [
      "{\"message\": \"Discovering Agent flow in chat 15d5bbab-2bf6-4d46-a685-9254945f7705\", \"name\": \"__main__\", \"asctime\": \"2025-02-13 21:58:36\", \"levelname\": \"INFO\", \"filename\": \"<ipython-input-25-6a60bf4efb16>\", \"funcName\": \"discover_flow_in_chat\", \"threadName\": \"Thread-24 (workflow_labeler_worker)\", \"status\": \"INFO\"}\n",
      "{\"message\": \"Discovering Agent flow in chat 15f0c3bc-64b4-4f77-9010-4073df40c41f\", \"name\": \"__main__\", \"asctime\": \"2025-02-13 21:58:36\", \"levelname\": \"INFO\", \"filename\": \"<ipython-input-25-6a60bf4efb16>\", \"funcName\": \"discover_flow_in_chat\", \"threadName\": \"Thread-23 (workflow_labeler_worker)\", \"status\": \"INFO\"}\n",
      "{\"message\": \"Discovering Agent flow in chat 160939cf-9a8f-4383-9799-e1631115d33f\", \"name\": \"__main__\", \"asctime\": \"2025-02-13 21:58:36\", \"levelname\": \"INFO\", \"filename\": \"<ipython-input-25-6a60bf4efb16>\", \"funcName\": \"discover_flow_in_chat\", \"threadName\": \"Thread-27 (workflow_labeler_worker)\", \"status\": \"INFO\"}\n",
      "{\"message\": \"Discovering Agent flow in chat 16145eaf-c159-4f85-bbf2-97d49dd05919\", \"name\": \"__main__\", \"asctime\": \"2025-02-13 21:58:36\", \"levelname\": \"INFO\", \"filename\": \"<ipython-input-25-6a60bf4efb16>\", \"funcName\": \"discover_flow_in_chat\", \"threadName\": \"Thread-21 (workflow_labeler_worker)\", \"status\": \"INFO\"}\n",
      "{\"message\": \"Discovering Agent flow in chat 162eb065-4f94-4df7-ac0f-fbc334372b0b\", \"name\": \"__main__\", \"asctime\": \"2025-02-13 21:58:36\", \"levelname\": \"INFO\", \"filename\": \"<ipython-input-25-6a60bf4efb16>\", \"funcName\": \"discover_flow_in_chat\", \"threadName\": \"Thread-19 (workflow_labeler_worker)\", \"status\": \"INFO\"}\n",
      "{\"message\": \"Discovering Agent flow in chat 16772e62-4717-4feb-aa95-b71380f9c4fa\", \"name\": \"__main__\", \"asctime\": \"2025-02-13 21:58:36\", \"levelname\": \"INFO\", \"filename\": \"<ipython-input-25-6a60bf4efb16>\", \"funcName\": \"discover_flow_in_chat\", \"threadName\": \"Thread-23 (workflow_labeler_worker)\", \"status\": \"INFO\"}\n",
      "{\"message\": \"Discovering Agent flow in chat 169c6f93-ad76-4f73-a886-e107a24a3ddc\", \"name\": \"__main__\", \"asctime\": \"2025-02-13 21:58:36\", \"levelname\": \"INFO\", \"filename\": \"<ipython-input-25-6a60bf4efb16>\", \"funcName\": \"discover_flow_in_chat\", \"threadName\": \"Thread-26 (workflow_labeler_worker)\", \"status\": \"INFO\"}\n",
      "{\"message\": \"Discovering Agent flow in chat 16a715d7-94af-45f0-83c0-9e269c448308\", \"name\": \"__main__\", \"asctime\": \"2025-02-13 21:58:37\", \"levelname\": \"INFO\", \"filename\": \"<ipython-input-25-6a60bf4efb16>\", \"funcName\": \"discover_flow_in_chat\", \"threadName\": \"Thread-27 (workflow_labeler_worker)\", \"status\": \"INFO\"}\n",
      "{\"message\": \"Discovering Agent flow in chat 1712b70d-459d-48c2-bdf1-e2b1fa3488d3\", \"name\": \"__main__\", \"asctime\": \"2025-02-13 21:58:37\", \"levelname\": \"INFO\", \"filename\": \"<ipython-input-25-6a60bf4efb16>\", \"funcName\": \"discover_flow_in_chat\", \"threadName\": \"Thread-21 (workflow_labeler_worker)\", \"status\": \"INFO\"}\n"
     ]
    },
    {
     "name": "stdout",
     "output_type": "stream",
     "text": [
      "Workflows from 170 chats extracted!\n"
     ]
    },
    {
     "name": "stderr",
     "output_type": "stream",
     "text": [
      "{\"message\": \"Discovering Agent flow in chat 1769dc8b-7c1d-43cc-ad42-055239339176\", \"name\": \"__main__\", \"asctime\": \"2025-02-13 21:58:38\", \"levelname\": \"INFO\", \"filename\": \"<ipython-input-25-6a60bf4efb16>\", \"funcName\": \"discover_flow_in_chat\", \"threadName\": \"Thread-19 (workflow_labeler_worker)\", \"status\": \"INFO\"}\n",
      "{\"message\": \"Discovering Agent flow in chat 176bdf21-0a06-490f-ad78-d506636940cc\", \"name\": \"__main__\", \"asctime\": \"2025-02-13 21:58:38\", \"levelname\": \"INFO\", \"filename\": \"<ipython-input-25-6a60bf4efb16>\", \"funcName\": \"discover_flow_in_chat\", \"threadName\": \"Thread-28 (workflow_labeler_worker)\", \"status\": \"INFO\"}\n",
      "{\"message\": \"Discovering Agent flow in chat 17819caa-4212-4fc3-bf14-26a2fdcdb719\", \"name\": \"__main__\", \"asctime\": \"2025-02-13 21:58:39\", \"levelname\": \"INFO\", \"filename\": \"<ipython-input-25-6a60bf4efb16>\", \"funcName\": \"discover_flow_in_chat\", \"threadName\": \"Thread-20 (workflow_labeler_worker)\", \"status\": \"INFO\"}\n",
      "{\"message\": \"Discovering Agent flow in chat 17bf716e-010e-45c4-8154-4c0263e7bb45\", \"name\": \"__main__\", \"asctime\": \"2025-02-13 21:58:39\", \"levelname\": \"INFO\", \"filename\": \"<ipython-input-25-6a60bf4efb16>\", \"funcName\": \"discover_flow_in_chat\", \"threadName\": \"Thread-21 (workflow_labeler_worker)\", \"status\": \"INFO\"}\n",
      "{\"message\": \"Discovering Agent flow in chat 18133c92-8a43-4788-beeb-418d28686622\", \"name\": \"__main__\", \"asctime\": \"2025-02-13 21:58:39\", \"levelname\": \"INFO\", \"filename\": \"<ipython-input-25-6a60bf4efb16>\", \"funcName\": \"discover_flow_in_chat\", \"threadName\": \"Thread-26 (workflow_labeler_worker)\", \"status\": \"INFO\"}\n",
      "{\"message\": \"Discovering Agent flow in chat 186eabb1-e299-4b32-87ff-27194236f078\", \"name\": \"__main__\", \"asctime\": \"2025-02-13 21:58:40\", \"levelname\": \"INFO\", \"filename\": \"<ipython-input-25-6a60bf4efb16>\", \"funcName\": \"discover_flow_in_chat\", \"threadName\": \"Thread-27 (workflow_labeler_worker)\", \"status\": \"INFO\"}\n",
      "{\"message\": \"Discovering Agent flow in chat 18919c38-b766-4e1c-93fe-f5caf9bdeb6f\", \"name\": \"__main__\", \"asctime\": \"2025-02-13 21:58:40\", \"levelname\": \"INFO\", \"filename\": \"<ipython-input-25-6a60bf4efb16>\", \"funcName\": \"discover_flow_in_chat\", \"threadName\": \"Thread-22 (workflow_labeler_worker)\", \"status\": \"INFO\"}\n",
      "{\"message\": \"Discovering Agent flow in chat 18e704a8-a805-412a-b2fc-00a3baa07799\", \"name\": \"__main__\", \"asctime\": \"2025-02-13 21:58:40\", \"levelname\": \"INFO\", \"filename\": \"<ipython-input-25-6a60bf4efb16>\", \"funcName\": \"discover_flow_in_chat\", \"threadName\": \"Thread-20 (workflow_labeler_worker)\", \"status\": \"INFO\"}\n",
      "{\"message\": \"Discovering Agent flow in chat 19006040-234c-47f1-acc3-99ac897f9d59\", \"name\": \"__main__\", \"asctime\": \"2025-02-13 21:58:41\", \"levelname\": \"INFO\", \"filename\": \"<ipython-input-25-6a60bf4efb16>\", \"funcName\": \"discover_flow_in_chat\", \"threadName\": \"Thread-26 (workflow_labeler_worker)\", \"status\": \"INFO\"}\n",
      "{\"message\": \"Discovering Agent flow in chat 1910b6d7-8786-41b6-ba2b-4798012944fc\", \"name\": \"__main__\", \"asctime\": \"2025-02-13 21:58:41\", \"levelname\": \"INFO\", \"filename\": \"<ipython-input-25-6a60bf4efb16>\", \"funcName\": \"discover_flow_in_chat\", \"threadName\": \"Thread-28 (workflow_labeler_worker)\", \"status\": \"INFO\"}\n"
     ]
    },
    {
     "name": "stdout",
     "output_type": "stream",
     "text": [
      "Workflows from 180 chats extracted!\n"
     ]
    },
    {
     "name": "stderr",
     "output_type": "stream",
     "text": [
      "{\"message\": \"Discovering Agent flow in chat 1913f1d4-0f13-4177-819a-b342ecf2c421\", \"name\": \"__main__\", \"asctime\": \"2025-02-13 21:58:41\", \"levelname\": \"INFO\", \"filename\": \"<ipython-input-25-6a60bf4efb16>\", \"funcName\": \"discover_flow_in_chat\", \"threadName\": \"Thread-24 (workflow_labeler_worker)\", \"status\": \"INFO\"}\n",
      "{\"message\": \"Discovering Agent flow in chat 1919f981-b0dc-4584-ab49-364bbc943425\", \"name\": \"__main__\", \"asctime\": \"2025-02-13 21:58:41\", \"levelname\": \"INFO\", \"filename\": \"<ipython-input-25-6a60bf4efb16>\", \"funcName\": \"discover_flow_in_chat\", \"threadName\": \"Thread-22 (workflow_labeler_worker)\", \"status\": \"INFO\"}\n",
      "{\"message\": \"Discovering Agent flow in chat 195f3467-6a11-47cb-a831-45ff25c30f92\", \"name\": \"__main__\", \"asctime\": \"2025-02-13 21:58:41\", \"levelname\": \"INFO\", \"filename\": \"<ipython-input-25-6a60bf4efb16>\", \"funcName\": \"discover_flow_in_chat\", \"threadName\": \"Thread-25 (workflow_labeler_worker)\", \"status\": \"INFO\"}\n",
      "{\"message\": \"Discovering Agent flow in chat 19747617-8b80-44a3-b8a5-4fd05510c6de\", \"name\": \"__main__\", \"asctime\": \"2025-02-13 21:58:42\", \"levelname\": \"INFO\", \"filename\": \"<ipython-input-25-6a60bf4efb16>\", \"funcName\": \"discover_flow_in_chat\", \"threadName\": \"Thread-23 (workflow_labeler_worker)\", \"status\": \"INFO\"}\n",
      "{\"message\": \"Discovering Agent flow in chat 199d729d-92d3-447a-ab31-bddf3d1e3640\", \"name\": \"__main__\", \"asctime\": \"2025-02-13 21:58:43\", \"levelname\": \"INFO\", \"filename\": \"<ipython-input-25-6a60bf4efb16>\", \"funcName\": \"discover_flow_in_chat\", \"threadName\": \"Thread-22 (workflow_labeler_worker)\", \"status\": \"INFO\"}\n",
      "{\"message\": \"Discovering Agent flow in chat 19a1cc1a-8625-4f63-a9cb-14e1b95b83cc\", \"name\": \"__main__\", \"asctime\": \"2025-02-13 21:58:44\", \"levelname\": \"INFO\", \"filename\": \"<ipython-input-25-6a60bf4efb16>\", \"funcName\": \"discover_flow_in_chat\", \"threadName\": \"Thread-20 (workflow_labeler_worker)\", \"status\": \"INFO\"}\n",
      "{\"message\": \"Discovering Agent flow in chat 19a589bc-e8c4-49c0-8ef6-17fa49f242d2\", \"name\": \"__main__\", \"asctime\": \"2025-02-13 21:58:44\", \"levelname\": \"INFO\", \"filename\": \"<ipython-input-25-6a60bf4efb16>\", \"funcName\": \"discover_flow_in_chat\", \"threadName\": \"Thread-25 (workflow_labeler_worker)\", \"status\": \"INFO\"}\n",
      "{\"message\": \"Discovering Agent flow in chat 19d7ab53-ae0e-4c74-a7f0-12690512d6a2\", \"name\": \"__main__\", \"asctime\": \"2025-02-13 21:58:44\", \"levelname\": \"INFO\", \"filename\": \"<ipython-input-25-6a60bf4efb16>\", \"funcName\": \"discover_flow_in_chat\", \"threadName\": \"Thread-21 (workflow_labeler_worker)\", \"status\": \"INFO\"}\n",
      "{\"message\": \"Discovering Agent flow in chat 1a062b58-0bc2-44b8-be35-2c61bf394cd4\", \"name\": \"__main__\", \"asctime\": \"2025-02-13 21:58:44\", \"levelname\": \"INFO\", \"filename\": \"<ipython-input-25-6a60bf4efb16>\", \"funcName\": \"discover_flow_in_chat\", \"threadName\": \"Thread-20 (workflow_labeler_worker)\", \"status\": \"INFO\"}\n"
     ]
    },
    {
     "name": "stdout",
     "output_type": "stream",
     "text": [
      "Workflows from 190 chats extracted!\n"
     ]
    },
    {
     "name": "stderr",
     "output_type": "stream",
     "text": [
      "{\"message\": \"Finished processing all 199 chats\", \"name\": \"__main__\", \"asctime\": \"2025-02-13 21:58:51\", \"levelname\": \"INFO\", \"filename\": \"<ipython-input-34-e96ef876503f>\", \"funcName\": \"extract_flows_from_chats\", \"threadName\": \"MainThread\", \"status\": \"INFO\"}\n"
     ]
    }
   ],
   "source": [
    "workflows = extract_flows_from_chats(sampled_chats)"
   ]
  },
  {
   "cell_type": "code",
   "execution_count": 45,
   "id": "19f33c13",
   "metadata": {},
   "outputs": [
    {
     "data": {
      "text/plain": [
       "274"
      ]
     },
     "execution_count": 45,
     "metadata": {},
     "output_type": "execute_result"
    }
   ],
   "source": [
    "sum([len(w) for w in workflows.values()])"
   ]
  },
  {
   "cell_type": "code",
   "execution_count": 46,
   "id": "229e9766",
   "metadata": {},
   "outputs": [],
   "source": [
    "all_workflows = []\n",
    "for w in workflows.values():\n",
    "    all_workflows.extend(w)"
   ]
  },
  {
   "cell_type": "markdown",
   "id": "a343fee9",
   "metadata": {},
   "source": [
    "# Grouping Workflows"
   ]
  },
  {
   "cell_type": "code",
   "execution_count": 62,
   "id": "6999ea39-e3f3-472f-8e90-9ff8063bb491",
   "metadata": {},
   "outputs": [],
   "source": [
    "def group_semantically_similar_workflows(workflows: list[Flow], embedder: \n",
    "                                         SentenceTransformer, group_on: Literal[\"product\", \"issue\"], semantic_threshold: int = 0.9):\n",
    "    embeddings = embedder.encode(workflows, convert_to_tensor=True)\n",
    "        \n",
    "    workflow_groups, solo_workflows = [], []\n",
    "    for idx, workflow in enumerate(workflows):\n",
    "        existing_groups = [group for group in workflow_groups if idx in group]\n",
    "        if existing_groups:\n",
    "            assert len(\n",
    "                existing_groups) == 1, \"A workflow should only be in 1 group\"\n",
    "            continue\n",
    "\n",
    "        print(f\"Finding similar Workflows for Workflow#{idx}\")\n",
    "\n",
    "        scores = util.cos_sim(embeddings[idx:idx + 1],\n",
    "                              embeddings).cpu().tolist()[0]\n",
    "        matches = [\n",
    "            i for i, score in enumerate(scores) if score > semantic_threshold\n",
    "        ]\n",
    "        filtered_matches = [i for i in matches if i != idx]\n",
    "        if filtered_matches:\n",
    "            outstanding_groups = []\n",
    "            new_group = filtered_matches + [idx]\n",
    "            for group in workflow_groups:\n",
    "                if set(filtered_matches).intersection(set(group)):\n",
    "                    new_group.extend(group)\n",
    "                else:\n",
    "                    outstanding_groups.append(group)\n",
    "            workflow_groups = outstanding_groups + [list(set(new_group))]\n",
    "        else:\n",
    "            solo_workflows.append(idx)\n",
    "\n",
    "    print(f\"Found {len(solo_workflows)} # of Solo Workflows..\")\n",
    "    print(f\"Found {len(workflow_groups)} # Groups of Workflows..\")\n",
    "\n",
    "    return [workflows[idx] for idx in solo_workflows\n",
    "           ], [[workflows[idx] for idx in group] for group in workflow_groups]"
   ]
  },
  {
   "cell_type": "code",
   "execution_count": 83,
   "id": "4bfb615a",
   "metadata": {},
   "outputs": [],
   "source": [
    "def group_workflows_by_product(workflows: list[Flow], embedder: SentenceTransformer, semantic_threshold: float=0.8) -> dict[str, list[Flow]]:\n",
    "    \n",
    "    products = [w.product for w in workflows] # [\"camera\", \"brinks alarm\", \"alarm\", \"tv\"]\n",
    "    embeddings = embedder.encode(products, convert_to_tensor=True)\n",
    "        \n",
    "    product_groups, solo_products = [], []\n",
    "    for idx, _ in enumerate(products):\n",
    "        existing_groups = [group for group in product_groups if idx in group]\n",
    "        if existing_groups:\n",
    "            assert len(\n",
    "                existing_groups) == 1, \"A workflow should only be in 1 group\"\n",
    "            continue\n",
    "\n",
    "        scores = util.cos_sim(embeddings[idx:idx + 1],\n",
    "                              embeddings).cpu().tolist()[0]\n",
    "        matches = [\n",
    "            i for i, score in enumerate(scores) if score > semantic_threshold\n",
    "        ]\n",
    "        filtered_matches = [i for i in matches if i != idx]\n",
    "        if filtered_matches:\n",
    "            outstanding_groups = []\n",
    "            new_group = filtered_matches + [idx]\n",
    "            for group in product_groups:\n",
    "                if set(filtered_matches).intersection(set(group)):\n",
    "                    new_group.extend(group)\n",
    "                else:\n",
    "                    outstanding_groups.append(group)\n",
    "            product_groups = outstanding_groups + [list(set(new_group))]\n",
    "        else:\n",
    "            solo_products.append(idx)\n",
    "\n",
    "    print(f\"Found {len(solo_products)} # of Solo Products.\")\n",
    "    print(f\"Found {len(product_groups)} # Groups of Products.\")\n",
    "\n",
    "    # Create mapping of indices to product names\n",
    "    idx_to_product = {i: p for i, p in enumerate(products)}\n",
    "    \n",
    "    retval = {}\n",
    "\n",
    "    for group in product_groups:\n",
    "        group_key = tuple(set([idx_to_product[idx] for idx in group]))\n",
    "        retval[group_key] = [workflows[idx] for idx in group]\n",
    "\n",
    "    for idx in solo_products:\n",
    "        retval[(workflows[idx].product,)] = [workflows[idx]]\n",
    "\n",
    "    return retval"
   ]
  },
  {
   "cell_type": "code",
   "execution_count": 84,
   "id": "811eb663-b988-4de3-90c7-3db995d55780",
   "metadata": {
    "scrolled": true,
    "tags": []
   },
   "outputs": [
    {
     "name": "stdout",
     "output_type": "stream",
     "text": [
      "Found 37 # of Solo Products.\n",
      "Found 30 # Groups of Products.\n"
     ]
    }
   ],
   "source": [
    "tree = group_workflows_by_product(all_workflows, embedder)"
   ]
  },
  {
   "cell_type": "code",
   "execution_count": 87,
   "id": "45d1bf8b",
   "metadata": {},
   "outputs": [
    {
     "name": "stdout",
     "output_type": "stream",
     "text": [
      "18\n"
     ]
    }
   ],
   "source": [
    "for key in tree.values():\n",
    "    print(len(key))\n",
    "    break"
   ]
  },
  {
   "cell_type": "code",
   "execution_count": null,
   "id": "bf80df7e",
   "metadata": {},
   "outputs": [],
   "source": [
    "\"\"\"\n",
    "{\n",
    "    \"camera\": [camera_flow1, camera_flow2, camera_flow3],\n",
    "    \"alarm\": [alarm_flow4, alarm_flow5, alarm_flow6],\n",
    "    \"TV\": [tv_flow1]\n",
    "}\n",
    "\"\"\"\n",
    "\n",
    "\"\"\"\n",
    "{\n",
    "    \"camera\": {\n",
    "        \"issue1\": [camera_issue1_flow1, camera_issue1_flow2, camera_issue1_flow3],\n",
    "        \"issue2\": [camera_issue2_flow1, camera_issue2_flow2, camera_issue2_flow3],\n",
    "    },\n",
    "    \"alarm\": {\n",
    "        \"issue1\": [alarm_issue1_flow1, alarm_issue1_flow2, alarm_issue1_flow3],\n",
    "        \"issue2\": [alarm_issue2_flow1, alarm_issue2_flow2, alarm_issue2_flow3],\n",
    "    },\n",
    "}\n",
    "\"\"\"\n",
    "\n",
    "\"\"\"\n",
    "{\n",
    "    \"camera\": {\n",
    "        \"issue1\": troubleshooting_steps,\n",
    "        \"issue2\": troubleshooting_steps,\n",
    "    },\n",
    "    \"alarm\": {\n",
    "        \"issue1\": troubleshooting_steps,\n",
    "        \"issue2\": troubleshooting_steps,\n",
    "    },\n",
    "}\n",
    "\"\"\""
   ]
  },
  {
   "cell_type": "code",
   "execution_count": null,
   "id": "1e1dbe71",
   "metadata": {},
   "outputs": [],
   "source": [
    "product_groups = group_semantically_similar_workflows(all_workflows, embedder, \"product\") # return dict of product -> list of workflows\n",
    "issues = {}\n",
    "for product, product_group in product_groups.items():\n",
    "    issues[product] = group_semantically_similar_workflows(product_group, embedder, \"issue\") "
   ]
  },
  {
   "cell_type": "code",
   "execution_count": null,
   "id": "dce35b42-acdc-4e70-ab1e-a17fae8c8ad5",
   "metadata": {
    "scrolled": true,
    "tags": []
   },
   "outputs": [],
   "source": [
    "for each in grouped_workflows:\n",
    "    print(\"-\" * 50)\n",
    "    print(len(each))\n",
    "    for e in each:\n",
    "        print(e)"
   ]
  },
  {
   "cell_type": "code",
   "execution_count": null,
   "id": "a86c07bf-691a-4a02-80cd-508fbb1f9514",
   "metadata": {},
   "outputs": [],
   "source": [
    "unique_workflow_titles = solo_workflows + [random.choice(w) for w in grouped_workflows]\n",
    "unique_workflows = [title_to_workflow[w] for w in unique_workflow_titles]\n",
    "len(unique_workflows)"
   ]
  },
  {
   "cell_type": "code",
   "execution_count": null,
   "id": "7de0bb98-0575-4611-aed7-608e3376bdc0",
   "metadata": {},
   "outputs": [],
   "source": [
    "filtered_unique_workflows = [w for w in unique_workflows if len(w[\"steps\"]) > 3] # skip too small workflows\n",
    "len(filtered_unique_workflows)"
   ]
  },
  {
   "cell_type": "code",
   "execution_count": null,
   "id": "900474f3-89c9-4d3e-b0d8-8059e16f7288",
   "metadata": {},
   "outputs": [],
   "source": [
    "filtered_unique_workflows[0]"
   ]
  },
  {
   "cell_type": "code",
   "execution_count": null,
   "id": "20532109-1ab2-41ad-904f-f7b61d24b669",
   "metadata": {},
   "outputs": [],
   "source": [
    "for w in filtered_unique_workflows[:10]:\n",
    "    print(w[\"title\"])"
   ]
  },
  {
   "cell_type": "code",
   "execution_count": null,
   "id": "315b9b83-f1b9-4585-a2aa-6ea8a705d08f",
   "metadata": {
    "scrolled": true,
    "tags": []
   },
   "outputs": [],
   "source": [
    "for w in filtered_unique_workflows:\n",
    "    print(\"-\" * 100)\n",
    "    print(\"\\n\\n\")\n",
    "    for k, v in w.items():\n",
    "        if isinstance(v, list):\n",
    "            val = \"\\n* \".join(v)\n",
    "            print(f\"{k.capitalize()}:\\n* {val}\")\n",
    "        else:\n",
    "            print(f\"{k.capitalize()}: {v}\")    "
   ]
  },
  {
   "cell_type": "code",
   "execution_count": null,
   "id": "4a04ebdb-26a9-4453-9cc2-c3f41c2cb794",
   "metadata": {
    "scrolled": true,
    "tags": []
   },
   "outputs": [],
   "source": [
    "[w[\"title\"] for w in filtered_unique_workflows]"
   ]
  },
  {
   "cell_type": "code",
   "execution_count": null,
   "id": "8406c7fd-2906-4e2f-afb3-afe0760f1810",
   "metadata": {},
   "outputs": [],
   "source": [
    "len(filtered_unique_workflows)"
   ]
  }
 ],
 "metadata": {
  "kernelspec": {
   "display_name": "Python 3 (ipykernel)",
   "language": "python",
   "name": "python3"
  },
  "language_info": {
   "codemirror_mode": {
    "name": "ipython",
    "version": 3
   },
   "file_extension": ".py",
   "mimetype": "text/x-python",
   "name": "python",
   "nbconvert_exporter": "python",
   "pygments_lexer": "ipython3",
   "version": "3.10.12"
  }
 },
 "nbformat": 4,
 "nbformat_minor": 5
}
