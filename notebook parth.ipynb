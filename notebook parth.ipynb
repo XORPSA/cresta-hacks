{
 "cells": [
  {
   "cell_type": "markdown",
   "id": "afd1e805-38c4-4f90-8d8a-53689dc86bbd",
   "metadata": {},
   "source": [
    "# Setup"
   ]
  },
  {
   "cell_type": "code",
   "execution_count": 2,
   "id": "6881e5e1-39f1-4f06-b650-adaf3937564b",
   "metadata": {},
   "outputs": [],
   "source": [
    "%load_ext autoreload\n",
    "%autoreload 2"
   ]
  },
  {
   "cell_type": "code",
   "execution_count": 3,
   "id": "b946a030",
   "metadata": {},
   "outputs": [],
   "source": [
    "# Standard library imports\n",
    "from pydantic import BaseModel\n",
    "from typing import Literal\n",
    "import threading\n",
    "import warnings\n",
    "import random\n",
    "import queue\n",
    "import json\n",
    "import csv\n",
    "import os\n",
    "\n",
    "warnings.filterwarnings(\"ignore\")\n",
    "JWT_SECRET_API = !echo $(aws --profile \"chat-prod_ro\" secretsmanager get-secret-value --secret-id \"arn:aws:secretsmanager:us-west-2:242659714806:secret:shared/cresta-server-jwt_secret-VDn5My\" --query SecretString --output text) # type: ignore\n",
    "os.environ[\"JWT_SECRET_API\"] = json.loads(JWT_SECRET_API[0])[\"jwt-secret\"]\n",
    "os.environ[\"CONFIG_SERVICE_ADDR\"] = \"auth.chat-prod.internal.cresta.ai:443\"\n",
    "os.environ[\"CONFIG_USE_SECURE_CHANNEL\"] = \"true\"\n",
    "\n",
    "# Third party imports\n",
    "\n",
    "from sentence_transformers import SentenceTransformer, util\n",
    "from retry import retry\n",
    "\n",
    "# Greyparrot imports\n",
    "from greyparrot.llm.prompting import prompts as prompts_utils\n",
    "from greyparrot.conversations.db import ConversationsDBConn\n",
    "from greyparrot.multi_tenancy.v3_config import V3Config\n",
    "from greyparrot.chats_common import PartialChat\n",
    "from greyparrot.dataset_common import Dataset\n",
    "from greyparrot.common import get_logger\n",
    "from greyparrot.conversations.utils import get_chats\n",
    "\n",
    "\n",
    "logger = get_logger(__name__)\n",
    "\n",
    "# Local imports\n",
    "from llm_proxy_client import LLMProxyDevClient"
   ]
  },
  {
   "cell_type": "code",
   "execution_count": 4,
   "id": "7e4bd5d0-d369-4e36-92d6-a8d30198ecca",
   "metadata": {},
   "outputs": [],
   "source": [
    "embedder = SentenceTransformer(\"all-mpnet-base-v2\")"
   ]
  },
  {
   "cell_type": "code",
   "execution_count": 5,
   "id": "be1a39f6-f947-40e6-8cc3-c129fe8610cb",
   "metadata": {},
   "outputs": [],
   "source": [
    "customer_id = \"brinks\"\n",
    "profile_id = \"care-voice\"\n",
    "usecase_id = \"care-voice\"\n",
    "language_code = \"en-US\""
   ]
  },
  {
   "cell_type": "code",
   "execution_count": 6,
   "id": "0a5b2751-25c6-404f-9454-3747754271ed",
   "metadata": {},
   "outputs": [],
   "source": [
    "def get_chats_with_ids(chat_ids: list[str]) -> list[PartialChat]:\n",
    "    customer_name: str = V3Config.short_name_from_ids(customer_id, profile_id)\n",
    "    conv_db_conn: ConversationsDBConn = ConversationsDBConn.from_customer_name(customer_name)\n",
    "    chats: list[PartialChat] = conv_db_conn.get_detailed_chats(\n",
    "        customer_id=customer_id,\n",
    "        profile_id=profile_id,\n",
    "        usecase_id=usecase_id,\n",
    "        language_code=language_code,\n",
    "        conversation_ids=chat_ids,\n",
    "        is_dev_user=False,\n",
    "    )\n",
    "    return chats"
   ]
  },
  {
   "cell_type": "code",
   "execution_count": 7,
   "id": "afcb1094-7197-466c-8a03-d3725ccaf380",
   "metadata": {},
   "outputs": [],
   "source": [
    "LLM_ENGINE: str = \"gpt-4o-mini\"\n",
    "CONCURRENCY: int = 10"
   ]
  },
  {
   "cell_type": "code",
   "execution_count": 8,
   "id": "620967f2-bf35-4305-9889-f08021619e7d",
   "metadata": {},
   "outputs": [],
   "source": [
    "@retry(tries=1, delay=60, backoff=2, logger=logger)\n",
    "def chat_completion(**kwargs):\n",
    "    return LLMProxyDevClient(\"openai\").beta.chat.completions.parse(**kwargs)"
   ]
  },
  {
   "cell_type": "markdown",
   "id": "fc5c40f7-e0e3-4eb8-818e-6a43d2d1dd02",
   "metadata": {},
   "source": [
    "# Discovery prompts"
   ]
  },
  {
   "cell_type": "code",
   "execution_count": 9,
   "id": "e404cd18-a964-45c5-8977-64053d53bfc4",
   "metadata": {},
   "outputs": [],
   "source": [
    "# TODO remove this after fixing speaker_role flips\n",
    "flips: dict[str, str] = {\"agent\": \"visitor\", \"visitor\": \"agent\"}"
   ]
  },
  {
   "cell_type": "code",
   "execution_count": 10,
   "id": "d52de3a4-12a9-46a4-a930-5f14eb66db2a",
   "metadata": {},
   "outputs": [],
   "source": [
    "def chat_to_prompt_text(chat: PartialChat) -> str:\n",
    "    return \"\\n\".join([\n",
    "        f\"{prompts_utils.speaker_role_str_for_prompts(flips[m.speaker_role.value]).capitalize()}: {m.text}\"\n",
    "        for m in chat.messages\n",
    "    ])"
   ]
  },
  {
   "cell_type": "code",
   "execution_count": 25,
   "id": "099b0d7c-a431-4e1e-803a-2f69d8a1df70",
   "metadata": {},
   "outputs": [],
   "source": [
    "SYSTEM_PROMPT_AGENT_WORKFLOW_DISCOVERY = \"\"\"### Context and data description\n",
    "You are a conversation analyst working for Brinks Home Security Call Center.\n",
    "\n",
    "You will be given 1 conversation at a time. Each conversation is between a Brinks Call Center Agent and a Customer. Your primary goal is to extract workflows of steps which the Agent takes in **the given conversation** to help resolve the Customer's needs related to their home security system and services.\n",
    "\n",
    "The primary use case of these workflows is to create a troubleshooting template to address similar customer needs in the future.\n",
    "\n",
    "Each workflow should be a list of steps which the Agent needs to take.\n",
    "\n",
    "For each workflow, return:\n",
    "- Product: Specific Brinks product/service involved (e.g., Security Panel, Door/Window Sensor, Motion Detector, Security Camera, Doorbell Camera, Smart Lock, Mobile App, Alarm.com Account)\n",
    "- Issue: Specific customer problem (e.g., False Alarms, Device Offline, Camera Not Recording, App Login Issues, Billing Questions, Account Changes)\n",
    "- Steps: Detailed troubleshooting or resolution steps the Agent follows\n",
    "\n",
    "Make sure the product is specific to Brinks' security equipment and services, not general categories.\n",
    "Make sure the issue clearly describes the exact problem the customer is experiencing.\n",
    "Make sure the steps are detailed and follow Brinks' standard operating procedures.\n",
    "\n",
    "Common scenarios include:\n",
    "- Security system troubleshooting (panel issues, sensor malfunctions, connectivity problems)\n",
    "- Camera and video recording issues\n",
    "- Account management (billing, autopay, contact updates)\n",
    "- Mobile app and Alarm.com portal assistance\n",
    "- Service changes (moving, upgrading, cancellation)\n",
    "- Installation and maintenance appointments\n",
    "\n",
    "**Important**: There could be more than 1 workflow in a single conversation. There could also be no workflows in a single conversation. The workflows will be used to create troubleshooting guides to address similar customer needs in the future.\"\"\""
   ]
  },
  {
   "cell_type": "code",
   "execution_count": 12,
   "id": "2b37c0eb",
   "metadata": {},
   "outputs": [],
   "source": [
    "class Flow(BaseModel):\n",
    "    product: str\n",
    "    issue: str\n",
    "    steps: list[str]\n",
    "\n",
    "class Flows(BaseModel):\n",
    "    flows: list[Flow]"
   ]
  },
  {
   "cell_type": "code",
   "execution_count": 13,
   "id": "64e4a2f3-1e34-43ee-94e2-65015660af2a",
   "metadata": {},
   "outputs": [],
   "source": [
    "def discover_flow_in_chat(chat: PartialChat,\n",
    "                          llm_engine: str = LLM_ENGINE) -> list[Flow]:\n",
    "    logger.info(f\"Discovering Agent flow in chat {chat.chat_name}\")\n",
    "    messages: list[dict[str, str]] = [\n",
    "        {\n",
    "            \"role\": \"system\",\n",
    "            \"content\": SYSTEM_PROMPT_AGENT_WORKFLOW_DISCOVERY\n",
    "        },\n",
    "        {\n",
    "            \"role\": \"user\",\n",
    "            \"content\": chat_to_prompt_text(chat)\n",
    "        },\n",
    "    ]\n",
    "\n",
    "    # Note: temperature=0.1 to allow for some exploration\n",
    "    return chat_completion(model=llm_engine,\n",
    "                            messages=messages,\n",
    "                            temperature=0.1,\n",
    "                            response_format=Flows).choices[0].message.parsed.flows"
   ]
  },
  {
   "cell_type": "code",
   "execution_count": 14,
   "id": "034f33d5-e6fe-49f4-918b-6a88819af747",
   "metadata": {},
   "outputs": [],
   "source": [
    "def extract_flows_from_chats(chats: list[PartialChat],\n",
    "                                concurrency: int=10) -> dict[str, list[Flow]]:\n",
    "    lock: threading.Lock = threading.Lock()\n",
    "    indexes: queue.Queue = queue.Queue()\n",
    "\n",
    "    workflows: dict[str, list[Flow]] = {}\n",
    "    for idx in range(len(chats)):\n",
    "        indexes.put(idx)\n",
    "\n",
    "    def workflow_labeler_worker():\n",
    "        while True:\n",
    "            try:\n",
    "                idx = indexes.get(block=False)\n",
    "            except queue.Empty:\n",
    "                return\n",
    "            chat = chats[idx]\n",
    "            try:\n",
    "                extracted_workflows: list[Flow] = discover_flow_in_chat(chat).flows\n",
    "                with lock:\n",
    "                    workflows[str(chat)] = extracted_workflows\n",
    "                    if len(workflows) % 10 == 0:\n",
    "                        print(f\"Workflows from {len(workflows)} chats extracted!\")\n",
    "            except Exception as e:\n",
    "                logger.warning(e, str(chat))\n",
    "            indexes.task_done()\n",
    "\n",
    "    logger.info(\n",
    "        f\"Starting processing {len(chats)} chats with {concurrency} workers\")\n",
    "    workers = [\n",
    "        threading.Thread(target=workflow_labeler_worker)\n",
    "        for _ in range(concurrency)\n",
    "    ]\n",
    "    for worker in workers:\n",
    "        worker.start()\n",
    "    for worker in workers:\n",
    "        worker.join()\n",
    "    logger.info(f\"Finished processing all {len(chats)} chats\")\n",
    "\n",
    "    return workflows"
   ]
  },
  {
   "cell_type": "code",
   "execution_count": 15,
   "id": "1aefb919-3d2e-4cea-a6f2-f593a3e251ff",
   "metadata": {
    "scrolled": true,
    "tags": []
   },
   "outputs": [
    {
     "name": "stderr",
     "output_type": "stream",
     "text": [
      "{\"message\": \"use case id not set, fallback to use profile id care-voice\", \"name\": \"greyparrot.common.customers\", \"asctime\": \"2025-02-13 21:17:50\", \"levelname\": \"WARNING\", \"filename\": \"customers.py\", \"funcName\": \"__init__\", \"threadName\": \"MainThread\", \"status\": \"WARNING\"}\n",
      "{\"message\": \"use case id not set, fallback to use profile id care-voice\", \"name\": \"greyparrot.common.customers\", \"asctime\": \"2025-02-13 21:17:52\", \"levelname\": \"WARNING\", \"filename\": \"customers.py\", \"funcName\": \"__init__\", \"threadName\": \"MainThread\", \"status\": \"WARNING\"}\n"
     ]
    },
    {
     "name": "stdout",
     "output_type": "stream",
     "text": [
      "cmd: cresta-cli connstring -i voice-prod voice-prod brinks-care-voice-FKrGHU -r\n",
      "cmd: cresta-cli connstring -i voice-prod voice-prod brinks-care-voice -r\n"
     ]
    },
    {
     "name": "stderr",
     "output_type": "stream",
     "text": [
      "{\"message\": \"Discovering Agent flow in chat 0843c54c-6487-45ce-946a-cc6257484f54\", \"name\": \"__main__\", \"asctime\": \"2025-02-13 21:17:55\", \"levelname\": \"INFO\", \"filename\": \"<ipython-input-13-6a60bf4efb16>\", \"funcName\": \"discover_flow_in_chat\", \"threadName\": \"MainThread\", \"status\": \"INFO\"}\n"
     ]
    }
   ],
   "source": [
    "test_chat: PartialChat = get_chats_with_ids([\"0843c54c-6487-45ce-946a-cc6257484f54\"])[0]\n",
    "workflows: list[Flow] = discover_flow_in_chat(test_chat)"
   ]
  },
  {
   "cell_type": "code",
   "execution_count": 16,
   "id": "ca1238bb",
   "metadata": {},
   "outputs": [
    {
     "name": "stdout",
     "output_type": "stream",
     "text": [
      "Customer: Technical support\n",
      "Agent: Thank you for being the best part of Brinks Home. My name is Juan. Who do I have the pleasure of speaking with?\n",
      "Customer: Debbie. Deborah Terryya.\n",
      "Agent: Good morning, missus Deborah. How can I assist you?\n",
      "Customer: Okay. On December 16th, I had Brinks installed. I had one. Camera put on my front door, and I had one put on the tireport, and then I went out of town for a couple weeks. And only my carport has been working since December 6th eight. And I clicked on the troubleshoot for my front door, and it just keeps coming up that there's a problem. I mean, I did I did everything it told me to do. I unplugged the power cord, and told me to wait 5 minutes. And it was trying to find what the problem was. And it is still not responding my front door.\n",
      "Agent: The front door. The other\n",
      "Customer: Which would be by my court\n",
      "Agent: Okay. Gotcha. Let me get into the account real quick. And let me just double check what is happening to that sensor.\n",
      "Customer: Yeah.\n",
      "Agent: I mean, to that camera,\n",
      "Customer: The December [NUMBER-SEQ]th was when everything was hooked up, and then I took off the next day, and I've been gone a couple weeks.\n",
      "Agent: Okay.\n",
      "Customer: So I haven't been able to call you. So that one hasn't even worked. For a couple weeks because I was out of town and it was coming up on my phone that my carport was working. And, you know, of course, with the holiday this week, and I couldn't call you till today.\n",
      "Agent: Thank you. May I have the phone number related to the account?\n",
      "Customer: Yes. It's 248 8186388.\n",
      "Agent: Thank you. May I have your full address?\n",
      "Customer: [NUMBER-SEQ] [NUMBER-SEQ] [NUMBER-SEQ] Vegas Valley Drive, Space [NUMBER-SEQ], Las Vegas. [NUMBER-SEQ].\n",
      "Agent: Thank you. May I have your verbal password?\n",
      "Customer: My what?\n",
      "Agent: A variable password.\n",
      "Customer: Okay. That's not my [NUMBER-SEQ] digit PIN. It's my password. It's Sassy.\n",
      "Agent: Thank you. We'll need your email.\n",
      "Customer: It's d a my last name, which is Terryya, atyahoo.com.\n",
      "Agent: Thank you, missus Carrea. Give me one second. In the meantime, can you How may I go into the front door camera?\n",
      "Customer: Okay. Hold on just go to the camera. Okay. Hold on. I just gotta get some shoes sorry.\n",
      "Agent: Sure. Let me know.\n",
      "Customer: Okay. Yay. There's that one. Okay. I'm almost there.\n",
      "Agent: No worries. That's okay.\n",
      "Customer: Okay. I see the camera.\n",
      "Agent: Okay. What color is the LED on the camera?\n",
      "Customer: LED on the camera. Well, I don't see anything. Let me go see what I'm looking for by looking at the other one because that one's working.\n",
      "Customer: Okay. Okay. I see a green on the carport, I see that it's a little item on the bottom. Okay. Let me see. But this one has This one has nothing.\n",
      "Customer: I don't see any color.\n",
      "Agent: No light at all?\n",
      "Customer: No light at all.\n",
      "Agent: Okay. Can you help me out going to the to the power supply and unplugging that camera from the power supply.\n",
      "Agent: Make sure that it's that camera power supply, please.\n",
      "Customer: Okay. Yep. Yes. Because one's on one side my room and one's down the other. Okay. I'm gonna go. I'm sorry. Yep. There's no little light at all. So let me don't have that.\n",
      "Customer: Okay. I am plugged up.\n",
      "Agent: Go ahead. Sorry.\n",
      "Customer: I already unplugged it. I just unplugged it.\n",
      "Agent: Okay. Thank you. Let's wait. Okay? Let's wait around 32 seconds to 1 minute.\n",
      "Customer: Okay.\n",
      "Agent: Thank you.\n",
      "Agent: Let me check.\n",
      "Agent: Okay? Can you help me out? Well, before do before reconnecting the camera. You did make sure that that was the power supply for the front door. Camera. Right?\n",
      "Customer: For the front porch.\n",
      "Agent: Right.\n",
      "Customer: Yes. This is the correct camera for the front porch.\n",
      "Agent: Okay. Can you reconnect the power supply.\n",
      "Customer: Okay.\n",
      "Agent: Thank you.\n",
      "Customer: Okay. I just plugged it back in.\n",
      "Agent: Okay. Let's go to the camera, and you will let me know what color is the LED.\n",
      "Customer: Okay. Sorry. I I go back outside.\n",
      "Agent: Take your time. No worries.\n",
      "Customer: I have not then.\n",
      "Agent: Nothing.\n",
      "Customer: No. My other one is green, and my carport. This one didn't do nothing.\n",
      "Agent: Okay.\n",
      "Agent: Just want to make one more thing. Okay?\n",
      "Customer: Okay.\n",
      "Agent: I want you to take something like a phone charger, something. So we can test if that power supply I mean, if if that's outlet, it's supplying energy. To the power supply.\n",
      "Customer: Okay. What do you want me to do again?\n",
      "Agent: I want you to take something to test the power outlet. Where the power supply is connected to.\n",
      "Customer: Okay. So like, I'm gonna charge my phones.\n",
      "Agent: That's okay.\n",
      "Customer: Alright. So I'm gonna charge my phone in that same outlet to see if it's working. Okay?\n",
      "Agent: That's perfect. Thank you.\n",
      "Customer: Okay. And my phone charger. K. Okay.\n",
      "Customer: Yep. My phone's charging\n",
      "Agent: Okay. So it is supplying energy.\n",
      "Customer: Yep.\n",
      "Agent: Okay. Gotcha. Then the power supply, it's not working. Which that's very weird. That only happens if you have several power outages.\n",
      "Customer: Oh, Yeah. I don't know. I mean, it only worked on December 6 teenth, and it hasn't worked since then. It says the last time it detected, was December 16th. So it hasn't been working since after the guy put it up.\n",
      "Customer: It worked must have been for a minute. Then like I said, I left the next day And it says the last time it recorded, anything was the 6 8th December.\n",
      "Agent: Okay.\n",
      "Agent: Don't worry.\n",
      "Customer: Like I said, I was out of town, so I was on me. Getting stuff on my phone from the carport. For 2 weeks. So that camera has not been working for 2 weeks.\n",
      "Agent: K. Let me just view the report, and let me know when you're ready I'm gonna give you a phone number so you can have a technician in there to To fix it?\n",
      "Customer: Okay. This is no charge to me. Right?\n",
      "Agent: Will not because it's within a month. Does show Mac.\n",
      "Customer: It didn't work from the first day, put it in.\n",
      "Agent: Right.\n",
      "Customer: December 16, Okay. I'm ready for the number.\n",
      "Agent: 888\n",
      "Agent: 75\n",
      "Customer: K. Okay. 9732.\n",
      "Agent: 9732.\n",
      "Agent: That's a skyline. That's the people that installed the system. They are the ones that are in charge of taking care of your system.\n",
      "Customer: Okay. Ready. Sounds good. So there's nothing else I can do.\n",
      "Agent: Hi. Not right now. Do you need everything that you could\n",
      "Customer: Okay. Alrighty.\n",
      "Agent: Just want to remind you,\n",
      "Customer: Alright. I will give I will give them a call then\n",
      "Agent: Mhmm. Perfect. Just one for a moment. Give you will be receiving a survey to rate my services via text, Really appreciate if you answered that survey for me.\n",
      "Customer: Alright. You're well.\n",
      "Agent: That's all. Have a great day. Thank you.\n",
      "Customer: Okay. Yes. Thank you for your help.\n",
      "Agent: No. Happy New Year?\n",
      "Customer: Thank Happy New Year to you too.\n",
      "Agent: Thank you.\n",
      "Customer: Have a good day. Bye bye.\n",
      "Agent: Bye.\n"
     ]
    }
   ],
   "source": [
    "print(chat_to_prompt_text(test_chat))"
   ]
  },
  {
   "cell_type": "code",
   "execution_count": 17,
   "id": "56a6064d-1c44-4811-9245-d5e83d838178",
   "metadata": {},
   "outputs": [
    {
     "name": "stdout",
     "output_type": "stream",
     "text": [
      "Found 1 workflows\n",
      "\n",
      "[Agent Workflow #1]\n",
      "Product: Brinks Home Front Door Camera\n",
      "Issue: Front door camera not responding\n",
      "Steps:\n",
      "* Verify customer account details including phone number and address.\n",
      "* Ask the customer to check the LED light on the front door camera.\n",
      "* Instruct the customer to unplug the power supply of the front door camera and wait for 30 seconds to 1 minute.\n",
      "* Confirm with the customer that they unplugged the correct power supply for the front door camera.\n",
      "* Guide the customer to reconnect the power supply to the front door camera.\n",
      "* Ask the customer again to check the LED light after reconnecting the power supply.\n",
      "* If no light is visible, instruct the customer to test the power outlet by plugging in a phone charger to see if it is supplying power.\n",
      "* If the outlet is working, inform the customer that the power supply for the camera is likely faulty and needs replacement.\n",
      "* Provide the customer with the contact number for the installation company to schedule a technician visit.\n"
     ]
    }
   ],
   "source": [
    "print(f\"Found {len(workflows)} workflows\\n\")\n",
    "for i, flow in enumerate(workflows):\n",
    "    print(f\"[Agent Workflow #{i + 1}]\")\n",
    "    print(f\"Product: {flow.product}\")\n",
    "    print(f\"Issue: {flow.issue}\")\n",
    "    print(\"Steps:\", end=\"\\n* \")\n",
    "    print(\"\\n* \".join(flow.steps))\n",
    "    if i < len(workflows) - 1:\n",
    "        print(\"-\" * 100)"
   ]
  },
  {
   "cell_type": "markdown",
   "id": "5593f36c-c4c0-4fac-9e09-b64e0f8d65d2",
   "metadata": {},
   "source": [
    "# Relevant chats (from KA-QE trainset)"
   ]
  },
  {
   "cell_type": "code",
   "execution_count": 18,
   "id": "034f74c9",
   "metadata": {},
   "outputs": [
    {
     "name": "stderr",
     "output_type": "stream",
     "text": [
      "{\"message\": \"use case id not set, fallback to use profile id care-voice\", \"name\": \"greyparrot.common.customers\", \"asctime\": \"2025-02-13 21:18:09\", \"levelname\": \"WARNING\", \"filename\": \"customers.py\", \"funcName\": \"__init__\", \"threadName\": \"MainThread\", \"status\": \"WARNING\"}\n",
      "{\"message\": \"use case id not set, fallback to use profile id care-voice\", \"name\": \"greyparrot.common.customers\", \"asctime\": \"2025-02-13 21:18:09\", \"levelname\": \"WARNING\", \"filename\": \"customers.py\", \"funcName\": \"__init__\", \"threadName\": \"MainThread\", \"status\": \"WARNING\"}\n",
      "{\"message\": \"use case id not set, fallback to use profile id care-voice\", \"name\": \"greyparrot.common.customers\", \"asctime\": \"2025-02-13 21:18:09\", \"levelname\": \"WARNING\", \"filename\": \"customers.py\", \"funcName\": \"__init__\", \"threadName\": \"MainThread\", \"status\": \"WARNING\"}\n"
     ]
    },
    {
     "name": "stdout",
     "output_type": "stream",
     "text": [
      "cmd: cresta-cli connstring -i voice-prod voice-prod brinks-care-voice-FKrGHU -r\n",
      "cmd: cresta-cli connstring -i voice-prod voice-prod brinks-care-voice -r\n"
     ]
    },
    {
     "name": "stderr",
     "output_type": "stream",
     "text": [
      "200it [00:01, 122.45it/s]\n",
      "{\"message\": \"Caching to cache_chats-6cdad05445414399627e4b4e59113f84.pkl\", \"name\": \"cache-utils\", \"asctime\": \"2025-02-13 21:18:13\", \"levelname\": \"INFO\", \"filename\": \"cache.py\", \"funcName\": \"wrapper\", \"threadName\": \"MainThread\", \"status\": \"INFO\"}\n",
      "{\"message\": \"Saving dataset to cache_chats-6cdad05445414399627e4b4e59113f84.pkl\", \"name\": \"dataset-common\", \"asctime\": \"2025-02-13 21:18:13\", \"levelname\": \"INFO\", \"filename\": \"common.py\", \"funcName\": \"save\", \"threadName\": \"MainThread\", \"status\": \"INFO\"}\n"
     ]
    }
   ],
   "source": [
    "data_set = get_chats(\n",
    "    'brinks-care-voice', \n",
    "    '2024-06-01',\n",
    "    '2024-12-01',\n",
    "    200,)"
   ]
  },
  {
   "cell_type": "code",
   "execution_count": null,
   "id": "cb47768b-bd30-4000-8dc2-73dc170bd110",
   "metadata": {},
   "outputs": [
    {
     "name": "stdout",
     "output_type": "stream",
     "text": [
      "200\n"
     ]
    }
   ],
   "source": [
    "sampled_chat_ids = list(set([\n",
    "    chat.chat_name\n",
    "    for chat in (item if not isinstance(item, tuple) else item[0] for item in data_set)\n",
    "    if hasattr(chat, 'chat_name')\n",
    "]))\n",
    "print(len(sampled_chat_ids))"
   ]
  },
  {
   "cell_type": "markdown",
   "id": "2a04fb3d-0c9e-4a97-b074-c967ef49f05b",
   "metadata": {},
   "source": [
    "# Agent Workflow Discovery"
   ]
  },
  {
   "cell_type": "code",
   "execution_count": null,
   "id": "b2fc69a6",
   "metadata": {},
   "outputs": [],
   "source": [
    "sampled_chats = get_chats_with_ids(sampled_chat_ids)"
   ]
  },
  {
   "cell_type": "code",
   "execution_count": null,
   "id": "6bc0f6fa-e10a-41cf-bffc-04e6138493bf",
   "metadata": {
    "scrolled": true,
    "tags": []
   },
   "outputs": [],
   "source": [
    "workflows = extract_flows_from_chats(sampled_chats)"
   ]
  },
  {
   "cell_type": "code",
   "execution_count": null,
   "id": "85294de9-348e-483f-afa0-7be035c0c4ac",
   "metadata": {},
   "outputs": [],
   "source": [
    "len(workflows)"
   ]
  },
  {
   "cell_type": "code",
   "execution_count": null,
   "id": "da7374d8-8423-41f9-9437-beed54b2ab50",
   "metadata": {
    "scrolled": true,
    "tags": []
   },
   "outputs": [],
   "source": [
    "for pc, ws in list(workflows.items())[:5]:\n",
    "    print(f\"\\n\\n<{pc}>\")\n",
    "    for idx, w in enumerate(ws):\n",
    "        print(\"-\" * 50)\n",
    "        print(f\"[Agent Workflow#{idx + 1}]\")\n",
    "        for k, v in w.items():\n",
    "            if isinstance(v, list):\n",
    "                val = \"\\n* \".join(v)\n",
    "                print(f\"{k.capitalize()}:\\n* {val}\")\n",
    "            else:\n",
    "                print(f\"{k.capitalize()}: {v}\")"
   ]
  },
  {
   "cell_type": "code",
   "execution_count": 62,
   "id": "6999ea39-e3f3-472f-8e90-9ff8063bb491",
   "metadata": {},
   "outputs": [],
   "source": [
    "def group_semantically_similar_workflows(workflows: list[Flow], embedder: \n",
    "                                         SentenceTransformer, group_on: Literal[\"product\", \"issue\"], semantic_threshold: int = 0.9):\n",
    "    if group_on == \"product\":\n",
    "        embeddings = embedder.encode([w.product for w in workflows], convert_to_tensor=True)\n",
    "    else: \n",
    "        embeddings = embedder.encode([w.issue for w in workflows], convert_to_tensor=True)\n",
    "        \n",
    "    workflow_groups, solo_workflows = [], []\n",
    "    for idx, workflow in enumerate(workflows):\n",
    "        existing_groups = [group for group in workflow_groups if idx in group]\n",
    "        if existing_groups:\n",
    "            assert len(\n",
    "                existing_groups) == 1, \"A workflow should only be in 1 group\"\n",
    "            continue\n",
    "\n",
    "        print(f\"Finding similar Workflows for Workflow#{idx}\")\n",
    "\n",
    "        scores = util.cos_sim(embeddings[idx:idx + 1],\n",
    "                              embeddings).cpu().tolist()[0]\n",
    "        matches = [\n",
    "            i for i, score in enumerate(scores) if score > semantic_threshold\n",
    "        ]\n",
    "        filtered_matches = [i for i in matches if i != idx]\n",
    "        if filtered_matches:\n",
    "            outstanding_groups = []\n",
    "            new_group = filtered_matches + [idx]\n",
    "            for group in workflow_groups:\n",
    "                if set(filtered_matches).intersection(set(group)):\n",
    "                    new_group.extend(group)\n",
    "                else:\n",
    "                    outstanding_groups.append(group)\n",
    "            workflow_groups = outstanding_groups + [list(set(new_group))]\n",
    "        else:\n",
    "            solo_workflows.append(idx)\n",
    "\n",
    "    print(f\"Found {len(solo_workflows)} # of Solo Workflows..\")\n",
    "    print(f\"Found {len(workflow_groups)} # Groups of Workflows..\")\n",
    "\n",
    "    return [workflows[idx] for idx in solo_workflows\n",
    "           ], [[workflows[idx] for idx in group] for group in workflow_groups]"
   ]
  },
  {
   "cell_type": "code",
   "execution_count": null,
   "id": "811eb663-b988-4de3-90c7-3db995d55780",
   "metadata": {
    "scrolled": true,
    "tags": []
   },
   "outputs": [],
   "source": [
    "solo_workflows, grouped_workflows = group_semantically_similar_workflows(\n",
    "    workflows, embedder, \"product\")"
   ]
  },
  {
   "cell_type": "code",
   "execution_count": null,
   "id": "dce35b42-acdc-4e70-ab1e-a17fae8c8ad5",
   "metadata": {
    "scrolled": true,
    "tags": []
   },
   "outputs": [],
   "source": [
    "for each in grouped_workflows:\n",
    "    print(\"-\" * 50)\n",
    "    print(len(each))\n",
    "    for e in each:\n",
    "        print(e)"
   ]
  },
  {
   "cell_type": "code",
   "execution_count": null,
   "id": "a86c07bf-691a-4a02-80cd-508fbb1f9514",
   "metadata": {},
   "outputs": [],
   "source": [
    "unique_workflow_titles = solo_workflows + [random.choice(w) for w in grouped_workflows]\n",
    "unique_workflows = [title_to_workflow[w] for w in unique_workflow_titles]\n",
    "len(unique_workflows)"
   ]
  },
  {
   "cell_type": "code",
   "execution_count": null,
   "id": "7de0bb98-0575-4611-aed7-608e3376bdc0",
   "metadata": {},
   "outputs": [],
   "source": [
    "filtered_unique_workflows = [w for w in unique_workflows if len(w[\"steps\"]) > 3] # skip too small workflows\n",
    "len(filtered_unique_workflows)"
   ]
  },
  {
   "cell_type": "code",
   "execution_count": null,
   "id": "900474f3-89c9-4d3e-b0d8-8059e16f7288",
   "metadata": {},
   "outputs": [],
   "source": [
    "filtered_unique_workflows[0]"
   ]
  },
  {
   "cell_type": "code",
   "execution_count": null,
   "id": "20532109-1ab2-41ad-904f-f7b61d24b669",
   "metadata": {},
   "outputs": [],
   "source": [
    "for w in filtered_unique_workflows[:10]:\n",
    "    print(w[\"title\"])"
   ]
  },
  {
   "cell_type": "code",
   "execution_count": null,
   "id": "315b9b83-f1b9-4585-a2aa-6ea8a705d08f",
   "metadata": {
    "scrolled": true,
    "tags": []
   },
   "outputs": [],
   "source": [
    "for w in filtered_unique_workflows:\n",
    "    print(\"-\" * 100)\n",
    "    print(\"\\n\\n\")\n",
    "    for k, v in w.items():\n",
    "        if isinstance(v, list):\n",
    "            val = \"\\n* \".join(v)\n",
    "            print(f\"{k.capitalize()}:\\n* {val}\")\n",
    "        else:\n",
    "            print(f\"{k.capitalize()}: {v}\")    "
   ]
  },
  {
   "cell_type": "code",
   "execution_count": null,
   "id": "4a04ebdb-26a9-4453-9cc2-c3f41c2cb794",
   "metadata": {
    "scrolled": true,
    "tags": []
   },
   "outputs": [],
   "source": [
    "[w[\"title\"] for w in filtered_unique_workflows]"
   ]
  },
  {
   "cell_type": "code",
   "execution_count": null,
   "id": "8406c7fd-2906-4e2f-afb3-afe0760f1810",
   "metadata": {},
   "outputs": [],
   "source": [
    "len(filtered_unique_workflows)"
   ]
  }
 ],
 "metadata": {
  "kernelspec": {
   "display_name": "Python 3 (ipykernel)",
   "language": "python",
   "name": "python3"
  },
  "language_info": {
   "codemirror_mode": {
    "name": "ipython",
    "version": 3
   },
   "file_extension": ".py",
   "mimetype": "text/x-python",
   "name": "python",
   "nbconvert_exporter": "python",
   "pygments_lexer": "ipython3",
   "version": "3.10.12"
  }
 },
 "nbformat": 4,
 "nbformat_minor": 5
}
